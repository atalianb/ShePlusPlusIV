{
  "nbformat": 4,
  "nbformat_minor": 0,
  "metadata": {
    "colab": {
      "provenance": [],
      "mount_file_id": "1YSHNyFyX_8LLoNpbB1tSqDxUbv6eKsTQ",
      "authorship_tag": "ABX9TyPDrJy48eOafSZcThhTN7II",
      "include_colab_link": true
    },
    "kernelspec": {
      "name": "python3",
      "display_name": "Python 3"
    },
    "language_info": {
      "name": "python"
    }
  },
  "cells": [
    {
      "cell_type": "markdown",
      "metadata": {
        "id": "view-in-github",
        "colab_type": "text"
      },
      "source": [
        "<a href=\"https://colab.research.google.com/github/atalianb/ShePlusPlusIV/blob/main/Solucion_Into_Python.ipynb\" target=\"_parent\"><img src=\"https://colab.research.google.com/assets/colab-badge.svg\" alt=\"Open In Colab\"/></a>"
      ]
    },
    {
      "cell_type": "markdown",
      "source": [
        "#**Palabras reservadas**"
      ],
      "metadata": {
        "id": "IhGx3-iZoa-9"
      }
    },
    {
      "cell_type": "code",
      "source": [
        "and           as              assert         break\n",
        "class         continue        def            del\n",
        "elif          else            except         exec\n",
        "finally       for             from           global\n",
        "if            import          in             is\n",
        "lambda        not             or             pass\n",
        "print         raise           return         try\n",
        "while         yield           False          None\n",
        "True"
      ],
      "metadata": {
        "id": "3UkIcP-moZka"
      },
      "execution_count": null,
      "outputs": []
    },
    {
      "cell_type": "markdown",
      "source": [
        "#**Tipos de datos en Python**\n",
        "\n",
        "Las variables pueden guardar datos de diferentes tipos y diferentes tipos pueden hacer distintas cosas.\n",
        "Python tiene los siguientes tipos de datos por default."
      ],
      "metadata": {
        "id": "IxJZEWxHeqfh"
      }
    },
    {
      "cell_type": "code",
      "execution_count": 1,
      "metadata": {
        "id": "FNNiJoqcKY8B",
        "colab": {
          "base_uri": "https://localhost:8080/"
        },
        "outputId": "cff40f6d-4a7d-48ed-8082-0ae8e47758fa"
      },
      "outputs": [
        {
          "output_type": "execute_result",
          "data": {
            "text/plain": [
              "int"
            ]
          },
          "metadata": {},
          "execution_count": 1
        }
      ],
      "source": [
        "x = 5\n",
        "type(x)"
      ]
    },
    {
      "cell_type": "code",
      "source": [
        "x = 3.1416\n",
        "type(x)"
      ],
      "metadata": {
        "id": "Y9wRuNJDozzK",
        "colab": {
          "base_uri": "https://localhost:8080/"
        },
        "outputId": "27e8a7d2-bac2-4653-cca8-3a0bfb7a4ccc"
      },
      "execution_count": 2,
      "outputs": [
        {
          "output_type": "execute_result",
          "data": {
            "text/plain": [
              "float"
            ]
          },
          "metadata": {},
          "execution_count": 2
        }
      ]
    },
    {
      "cell_type": "code",
      "source": [
        "x = 1j\n",
        "type(x)"
      ],
      "metadata": {
        "id": "LW_XWO9SpIYK",
        "colab": {
          "base_uri": "https://localhost:8080/"
        },
        "outputId": "b936bd90-e472-4f78-9977-d4133cffcc2b"
      },
      "execution_count": 3,
      "outputs": [
        {
          "output_type": "execute_result",
          "data": {
            "text/plain": [
              "complex"
            ]
          },
          "metadata": {},
          "execution_count": 3
        }
      ]
    },
    {
      "cell_type": "code",
      "source": [
        "c = complex(1.5, 0.5)\n",
        "c"
      ],
      "metadata": {
        "colab": {
          "base_uri": "https://localhost:8080/"
        },
        "id": "X17-mfnw97YU",
        "outputId": "11e05409-ef0f-4917-cae8-1a25390bf2fe"
      },
      "execution_count": 4,
      "outputs": [
        {
          "output_type": "execute_result",
          "data": {
            "text/plain": [
              "(1.5+0.5j)"
            ]
          },
          "metadata": {},
          "execution_count": 4
        }
      ]
    },
    {
      "cell_type": "code",
      "source": [
        "print(c.real,c.imag)"
      ],
      "metadata": {
        "colab": {
          "base_uri": "https://localhost:8080/"
        },
        "id": "LVfJT55j9-5q",
        "outputId": "3341c3d2-16ce-496e-c52d-ebb1af4fb623"
      },
      "execution_count": 5,
      "outputs": [
        {
          "output_type": "stream",
          "name": "stdout",
          "text": [
            "1.5 0.5\n"
          ]
        }
      ]
    },
    {
      "cell_type": "code",
      "source": [
        "x = 'Hola Mundo'\n",
        "type(x)"
      ],
      "metadata": {
        "id": "UrlfoEh6o6E8",
        "colab": {
          "base_uri": "https://localhost:8080/"
        },
        "outputId": "e415831b-4df9-479b-f490-5b696c637f1e"
      },
      "execution_count": 6,
      "outputs": [
        {
          "output_type": "execute_result",
          "data": {
            "text/plain": [
              "str"
            ]
          },
          "metadata": {},
          "execution_count": 6
        }
      ]
    },
    {
      "cell_type": "code",
      "source": [
        "x = ['manzanas','peras','fresas']\n",
        "type(x)"
      ],
      "metadata": {
        "id": "VDt9itHupJEL",
        "colab": {
          "base_uri": "https://localhost:8080/"
        },
        "outputId": "bef8d68a-397e-4429-abca-f212bb49831f"
      },
      "execution_count": 7,
      "outputs": [
        {
          "output_type": "execute_result",
          "data": {
            "text/plain": [
              "list"
            ]
          },
          "metadata": {},
          "execution_count": 7
        }
      ]
    },
    {
      "cell_type": "code",
      "source": [
        "x = ('manzanas','peras','fresas')\n",
        "type(x)"
      ],
      "metadata": {
        "id": "c2bWnoIppn7C",
        "colab": {
          "base_uri": "https://localhost:8080/"
        },
        "outputId": "33cc121d-d78b-4ede-e80d-4d9616b152d3"
      },
      "execution_count": 8,
      "outputs": [
        {
          "output_type": "execute_result",
          "data": {
            "text/plain": [
              "tuple"
            ]
          },
          "metadata": {},
          "execution_count": 8
        }
      ]
    },
    {
      "cell_type": "code",
      "source": [
        "x = {\"Nombre\" : \"Alicia\", \"Edad\" : 30}\n",
        "type(x)"
      ],
      "metadata": {
        "id": "TJDlKZvVo_ef",
        "colab": {
          "base_uri": "https://localhost:8080/"
        },
        "outputId": "d3c2ae0e-1692-478c-bcd1-beeb1531914d"
      },
      "execution_count": 9,
      "outputs": [
        {
          "output_type": "execute_result",
          "data": {
            "text/plain": [
              "dict"
            ]
          },
          "metadata": {},
          "execution_count": 9
        }
      ]
    },
    {
      "cell_type": "code",
      "source": [
        "x = True\n",
        "type(x)"
      ],
      "metadata": {
        "id": "prTykK01ptIR",
        "colab": {
          "base_uri": "https://localhost:8080/"
        },
        "outputId": "53e6f9d8-408f-49ab-9e96-c26e261707af"
      },
      "execution_count": 10,
      "outputs": [
        {
          "output_type": "execute_result",
          "data": {
            "text/plain": [
              "bool"
            ]
          },
          "metadata": {},
          "execution_count": 10
        }
      ]
    },
    {
      "cell_type": "code",
      "source": [
        "from IPython.display import Image\n",
        "from IPython.core.display import HTML \n",
        "Image(url= \"https://ipcisco.com/wp-content/uploads/2021/03/Python-Tuple-vs-List-ipcisco.com_.jpg\")#, width=950, height=1000)"
      ],
      "metadata": {
        "id": "5WCw6Jze-hxL",
        "colab": {
          "base_uri": "https://localhost:8080/",
          "height": 669
        },
        "outputId": "891a89b1-9442-4979-a5b5-6c00dcc44b4b"
      },
      "execution_count": 11,
      "outputs": [
        {
          "output_type": "execute_result",
          "data": {
            "text/html": [
              "<img src=\"https://ipcisco.com/wp-content/uploads/2021/03/Python-Tuple-vs-List-ipcisco.com_.jpg\"/>"
            ],
            "text/plain": [
              "<IPython.core.display.Image object>"
            ]
          },
          "metadata": {},
          "execution_count": 11
        }
      ]
    },
    {
      "cell_type": "markdown",
      "source": [
        "https://www.w3schools.com/python/python_datatypes.asp"
      ],
      "metadata": {
        "id": "6MCj-W0ZeohE"
      }
    },
    {
      "cell_type": "markdown",
      "source": [
        "#Operaciones"
      ],
      "metadata": {
        "id": "rnGbg1TxnlYQ"
      }
    },
    {
      "cell_type": "code",
      "source": [
        "#Suma\n",
        "5+5"
      ],
      "metadata": {
        "colab": {
          "base_uri": "https://localhost:8080/"
        },
        "id": "a0KkED3Bnm3l",
        "outputId": "f8fa4b67-0b94-4110-c54d-b06304d57fa1"
      },
      "execution_count": 12,
      "outputs": [
        {
          "output_type": "execute_result",
          "data": {
            "text/plain": [
              "10"
            ]
          },
          "metadata": {},
          "execution_count": 12
        }
      ]
    },
    {
      "cell_type": "code",
      "source": [
        "#Resta\n",
        "3-2"
      ],
      "metadata": {
        "id": "ZTkqvj2TwegP",
        "colab": {
          "base_uri": "https://localhost:8080/"
        },
        "outputId": "d81b3d00-84e6-4de3-b52c-218e49652e28"
      },
      "execution_count": 13,
      "outputs": [
        {
          "output_type": "execute_result",
          "data": {
            "text/plain": [
              "1"
            ]
          },
          "metadata": {},
          "execution_count": 13
        }
      ]
    },
    {
      "cell_type": "code",
      "source": [
        "#Multiplicación\n",
        "6*5"
      ],
      "metadata": {
        "id": "hil4wshIwgxF",
        "colab": {
          "base_uri": "https://localhost:8080/"
        },
        "outputId": "5ab74bc5-1960-4b72-d469-09d1b15d4588"
      },
      "execution_count": 14,
      "outputs": [
        {
          "output_type": "execute_result",
          "data": {
            "text/plain": [
              "30"
            ]
          },
          "metadata": {},
          "execution_count": 14
        }
      ]
    },
    {
      "cell_type": "code",
      "source": [
        "#División\n",
        "5/6"
      ],
      "metadata": {
        "id": "R4uDXTb_wYcp",
        "colab": {
          "base_uri": "https://localhost:8080/"
        },
        "outputId": "1f06fc9b-9c74-43e9-d05b-eb9fef9293e0"
      },
      "execution_count": 15,
      "outputs": [
        {
          "output_type": "execute_result",
          "data": {
            "text/plain": [
              "0.8333333333333334"
            ]
          },
          "metadata": {},
          "execution_count": 15
        }
      ]
    },
    {
      "cell_type": "code",
      "source": [
        "#Potencia\n",
        "#Dos formas\n",
        "2**3"
      ],
      "metadata": {
        "id": "EuOyyub3wWNj",
        "colab": {
          "base_uri": "https://localhost:8080/"
        },
        "outputId": "19aa7393-d4eb-45f2-b6c0-2efcf15c0970"
      },
      "execution_count": 16,
      "outputs": [
        {
          "output_type": "execute_result",
          "data": {
            "text/plain": [
              "8"
            ]
          },
          "metadata": {},
          "execution_count": 16
        }
      ]
    },
    {
      "cell_type": "code",
      "source": [
        "pow(2.,3.)"
      ],
      "metadata": {
        "colab": {
          "base_uri": "https://localhost:8080/"
        },
        "id": "pZcq0OOzvqk2",
        "outputId": "5d594271-5f9e-47ad-f41b-e09ab7c241b0"
      },
      "execution_count": 17,
      "outputs": [
        {
          "output_type": "execute_result",
          "data": {
            "text/plain": [
              "8.0"
            ]
          },
          "metadata": {},
          "execution_count": 17
        }
      ]
    },
    {
      "cell_type": "code",
      "source": [
        "#flor division\n",
        "\n",
        "11 // 3                 # what's the result of  11//3"
      ],
      "metadata": {
        "id": "okcaqFbu9vGS",
        "colab": {
          "base_uri": "https://localhost:8080/"
        },
        "outputId": "40b31ced-78c2-4ecd-b23c-7f54c57b22e8"
      },
      "execution_count": 18,
      "outputs": [
        {
          "output_type": "execute_result",
          "data": {
            "text/plain": [
              "3"
            ]
          },
          "metadata": {},
          "execution_count": 18
        }
      ]
    },
    {
      "cell_type": "code",
      "source": [
        "11/3"
      ],
      "metadata": {
        "colab": {
          "base_uri": "https://localhost:8080/"
        },
        "id": "Z94se7J9v5Ko",
        "outputId": "7b439120-3f39-4780-944e-29562bd87a07"
      },
      "execution_count": 19,
      "outputs": [
        {
          "output_type": "execute_result",
          "data": {
            "text/plain": [
              "3.6666666666666665"
            ]
          },
          "metadata": {},
          "execution_count": 19
        }
      ]
    },
    {
      "cell_type": "code",
      "source": [
        "#module\n",
        "\n",
        "11%3                     # what's the result of  11%3"
      ],
      "metadata": {
        "id": "WEsZ0ipN9wRG",
        "colab": {
          "base_uri": "https://localhost:8080/"
        },
        "outputId": "5a28ce5b-d6b1-47a3-8350-af15f21a932c"
      },
      "execution_count": 20,
      "outputs": [
        {
          "output_type": "execute_result",
          "data": {
            "text/plain": [
              "2"
            ]
          },
          "metadata": {},
          "execution_count": 20
        }
      ]
    },
    {
      "cell_type": "markdown",
      "source": [
        "###Operaciones boleanas\n",
        "\n",
        "\n",
        "*   **>**  mayor que (estricto)\n",
        "*   **<**  menor que (estricto)\n",
        "*   **>=**  mayor o igual que\n",
        "*   **<=**  menor o igual que\n",
        "*   **==**  identicamente igual\n",
        "*   **!=**  no es\n"
      ],
      "metadata": {
        "id": "SOHiFiT6AE9N"
      }
    },
    {
      "cell_type": "code",
      "source": [
        "x=5\n",
        "y=6"
      ],
      "metadata": {
        "id": "dTc1sK6AAEFv"
      },
      "execution_count": 22,
      "outputs": []
    },
    {
      "cell_type": "code",
      "source": [
        "x>y"
      ],
      "metadata": {
        "id": "0gUln7f7EJwf",
        "colab": {
          "base_uri": "https://localhost:8080/"
        },
        "outputId": "edc2a18d-0a94-45ec-9e3d-e3c3ed972f84"
      },
      "execution_count": 23,
      "outputs": [
        {
          "output_type": "execute_result",
          "data": {
            "text/plain": [
              "False"
            ]
          },
          "metadata": {},
          "execution_count": 23
        }
      ]
    },
    {
      "cell_type": "code",
      "source": [
        "x<=y"
      ],
      "metadata": {
        "id": "9W6G0I-YEJlx",
        "colab": {
          "base_uri": "https://localhost:8080/"
        },
        "outputId": "ecfa1607-e41c-436a-dd01-62f419e23ea3"
      },
      "execution_count": 25,
      "outputs": [
        {
          "output_type": "execute_result",
          "data": {
            "text/plain": [
              "True"
            ]
          },
          "metadata": {},
          "execution_count": 25
        }
      ]
    },
    {
      "cell_type": "code",
      "source": [
        "x = []\n",
        "y = []"
      ],
      "metadata": {
        "id": "u2vYB3cVEJUS"
      },
      "execution_count": 26,
      "outputs": []
    },
    {
      "cell_type": "code",
      "source": [
        "x is x"
      ],
      "metadata": {
        "id": "Xs58_0M_ENKh",
        "colab": {
          "base_uri": "https://localhost:8080/"
        },
        "outputId": "fd04e204-d63c-406b-e9c7-d774916fcbd5"
      },
      "execution_count": 27,
      "outputs": [
        {
          "output_type": "execute_result",
          "data": {
            "text/plain": [
              "True"
            ]
          },
          "metadata": {},
          "execution_count": 27
        }
      ]
    },
    {
      "cell_type": "code",
      "source": [
        "x is not x"
      ],
      "metadata": {
        "id": "d_YN6kNjEOi0",
        "colab": {
          "base_uri": "https://localhost:8080/"
        },
        "outputId": "756f3bf8-7ce1-4217-fffd-9431db29094f"
      },
      "execution_count": 28,
      "outputs": [
        {
          "output_type": "execute_result",
          "data": {
            "text/plain": [
              "False"
            ]
          },
          "metadata": {},
          "execution_count": 28
        }
      ]
    },
    {
      "cell_type": "code",
      "source": [
        "x is y"
      ],
      "metadata": {
        "id": "z5BEnZr8EQXq",
        "colab": {
          "base_uri": "https://localhost:8080/"
        },
        "outputId": "8e2a277d-8a4a-40ef-9462-017f8c92fe8c"
      },
      "execution_count": 29,
      "outputs": [
        {
          "output_type": "execute_result",
          "data": {
            "text/plain": [
              "False"
            ]
          },
          "metadata": {},
          "execution_count": 29
        }
      ]
    },
    {
      "cell_type": "code",
      "source": [
        "x is not y"
      ],
      "metadata": {
        "id": "R8p22eYDESxZ",
        "colab": {
          "base_uri": "https://localhost:8080/"
        },
        "outputId": "308fc29d-d8d2-436e-fb4e-7cf3984ab720"
      },
      "execution_count": 30,
      "outputs": [
        {
          "output_type": "execute_result",
          "data": {
            "text/plain": [
              "True"
            ]
          },
          "metadata": {},
          "execution_count": 30
        }
      ]
    },
    {
      "cell_type": "markdown",
      "source": [
        "###Otras operaciones"
      ],
      "metadata": {
        "id": "bNbHnYpNEWcy"
      }
    },
    {
      "cell_type": "code",
      "source": [
        "print('hola '+ 10)"
      ],
      "metadata": {
        "colab": {
          "base_uri": "https://localhost:8080/",
          "height": 164
        },
        "id": "oO0MZeMYoE4K",
        "outputId": "6071624d-8d7c-41bf-d279-f093370eb2cf"
      },
      "execution_count": 31,
      "outputs": [
        {
          "output_type": "error",
          "ename": "TypeError",
          "evalue": "ignored",
          "traceback": [
            "\u001b[0;31m---------------------------------------------------------------------------\u001b[0m",
            "\u001b[0;31mTypeError\u001b[0m                                 Traceback (most recent call last)",
            "\u001b[0;32m<ipython-input-31-671ecd36ce13>\u001b[0m in \u001b[0;36m<module>\u001b[0;34m\u001b[0m\n\u001b[0;32m----> 1\u001b[0;31m \u001b[0mprint\u001b[0m\u001b[0;34m(\u001b[0m\u001b[0;34m'hola '\u001b[0m\u001b[0;34m+\u001b[0m \u001b[0;36m10\u001b[0m\u001b[0;34m)\u001b[0m\u001b[0;34m\u001b[0m\u001b[0;34m\u001b[0m\u001b[0m\n\u001b[0m",
            "\u001b[0;31mTypeError\u001b[0m: can only concatenate str (not \"int\") to str"
          ]
        }
      ]
    },
    {
      "cell_type": "code",
      "source": [
        "print('hola '* 10)"
      ],
      "metadata": {
        "colab": {
          "base_uri": "https://localhost:8080/"
        },
        "id": "hm4vPM9UoG6k",
        "outputId": "f4ed4bb1-19f8-4d01-b1b7-ae32119ff883"
      },
      "execution_count": 32,
      "outputs": [
        {
          "output_type": "stream",
          "name": "stdout",
          "text": [
            "hola hola hola hola hola hola hola hola hola hola \n"
          ]
        }
      ]
    },
    {
      "cell_type": "code",
      "source": [
        "b = [1,3,2]"
      ],
      "metadata": {
        "id": "jkggKzDPqJna"
      },
      "execution_count": 33,
      "outputs": []
    },
    {
      "cell_type": "code",
      "source": [
        "b.sort()"
      ],
      "metadata": {
        "id": "LZ3Z-st8xHSa"
      },
      "execution_count": 34,
      "outputs": []
    },
    {
      "cell_type": "code",
      "source": [
        "b"
      ],
      "metadata": {
        "colab": {
          "base_uri": "https://localhost:8080/"
        },
        "id": "-e0Kbaosx2Qi",
        "outputId": "0a725113-539f-4463-f472-b85aae989a91"
      },
      "execution_count": 35,
      "outputs": [
        {
          "output_type": "execute_result",
          "data": {
            "text/plain": [
              "[1, 2, 3]"
            ]
          },
          "metadata": {},
          "execution_count": 35
        }
      ]
    },
    {
      "cell_type": "code",
      "source": [
        "b.pop()"
      ],
      "metadata": {
        "colab": {
          "base_uri": "https://localhost:8080/"
        },
        "id": "Z6W0GPM5xV11",
        "outputId": "fcee75ad-4091-43e5-fd7d-953e072819a6"
      },
      "execution_count": 36,
      "outputs": [
        {
          "output_type": "execute_result",
          "data": {
            "text/plain": [
              "3"
            ]
          },
          "metadata": {},
          "execution_count": 36
        }
      ]
    },
    {
      "cell_type": "code",
      "source": [
        "b"
      ],
      "metadata": {
        "colab": {
          "base_uri": "https://localhost:8080/"
        },
        "id": "ZLfXCdRGxh2w",
        "outputId": "24e45f2c-03b3-48cf-d219-2aac769e9a14"
      },
      "execution_count": 37,
      "outputs": [
        {
          "output_type": "execute_result",
          "data": {
            "text/plain": [
              "[1, 2]"
            ]
          },
          "metadata": {},
          "execution_count": 37
        }
      ]
    },
    {
      "cell_type": "code",
      "source": [
        "b.clear()"
      ],
      "metadata": {
        "id": "rgbFjoB5tWJw"
      },
      "execution_count": 38,
      "outputs": []
    },
    {
      "cell_type": "code",
      "source": [
        "b"
      ],
      "metadata": {
        "colab": {
          "base_uri": "https://localhost:8080/"
        },
        "id": "xWWTPjSqtdrc",
        "outputId": "dd091fc0-70ab-4a9e-e2e8-1e2efa077973"
      },
      "execution_count": 39,
      "outputs": [
        {
          "output_type": "execute_result",
          "data": {
            "text/plain": [
              "[]"
            ]
          },
          "metadata": {},
          "execution_count": 39
        }
      ]
    },
    {
      "cell_type": "code",
      "source": [
        "b.append(5)"
      ],
      "metadata": {
        "id": "HVZ6FZZBzgBv"
      },
      "execution_count": 40,
      "outputs": []
    },
    {
      "cell_type": "code",
      "source": [
        "b?"
      ],
      "metadata": {
        "id": "rQTrnVU3teP4"
      },
      "execution_count": 41,
      "outputs": []
    },
    {
      "cell_type": "markdown",
      "source": [
        "También podemos usar el notebook con comandos de la terminal usando ! o %\n",
        "\n",
        "\n",
        "*   **pwd:** print working directory\n",
        "*   **ls:** list files and directories\n",
        "*   **cd:** change directory\n",
        "*   **hist:** returns the commands **history**\n",
        "\n",
        "Otros comandos que pueden ser útiles\n",
        "*   **pip install library_name:** Te permite instalar la librería que necesites y no tengas instalada, solamente tienes que cambiar **library_name** por el nombre de la librería.\n",
        "\n"
      ],
      "metadata": {
        "id": "PXmKZXn9w2Ta"
      }
    },
    {
      "cell_type": "code",
      "source": [
        "!pwd"
      ],
      "metadata": {
        "colab": {
          "base_uri": "https://localhost:8080/"
        },
        "id": "tFNnS30Cw3ME",
        "outputId": "6ac1c351-8c32-4a17-c484-2bf79ddf2f79"
      },
      "execution_count": 42,
      "outputs": [
        {
          "output_type": "stream",
          "name": "stdout",
          "text": [
            "/content\n"
          ]
        }
      ]
    },
    {
      "cell_type": "markdown",
      "source": [
        "##Otros comandos útiles"
      ],
      "metadata": {
        "id": "01T6_kFc2KgX"
      }
    },
    {
      "cell_type": "code",
      "source": [
        "b = [1,3,2]"
      ],
      "metadata": {
        "id": "drHvyZ_z2jdt"
      },
      "execution_count": 43,
      "outputs": []
    },
    {
      "cell_type": "code",
      "source": [
        "# The previous result\n",
        "_"
      ],
      "metadata": {
        "id": "-CPLQ-G_2QGM",
        "colab": {
          "base_uri": "https://localhost:8080/"
        },
        "outputId": "9ca2b089-1d65-44a5-f809-311592e9836d"
      },
      "execution_count": 44,
      "outputs": [
        {
          "output_type": "execute_result",
          "data": {
            "text/plain": [
              "[5]"
            ]
          },
          "metadata": {},
          "execution_count": 44
        }
      ]
    },
    {
      "cell_type": "code",
      "source": [
        "# The result obtained in cell 43\n",
        "\n",
        "_43"
      ],
      "metadata": {
        "id": "AgH-Vvte2Qgc",
        "colab": {
          "base_uri": "https://localhost:8080/",
          "height": 198
        },
        "outputId": "e7192868-f881-4e9a-cee4-dc07057b201c"
      },
      "execution_count": 45,
      "outputs": [
        {
          "output_type": "error",
          "ename": "NameError",
          "evalue": "ignored",
          "traceback": [
            "\u001b[0;31m---------------------------------------------------------------------------\u001b[0m",
            "\u001b[0;31mNameError\u001b[0m                                 Traceback (most recent call last)",
            "\u001b[0;32m<ipython-input-45-96be42df9b3f>\u001b[0m in \u001b[0;36m<module>\u001b[0;34m\u001b[0m\n\u001b[1;32m      1\u001b[0m \u001b[0;31m# The result obtained in cell 29\u001b[0m\u001b[0;34m\u001b[0m\u001b[0;34m\u001b[0m\u001b[0m\n\u001b[1;32m      2\u001b[0m \u001b[0;34m\u001b[0m\u001b[0m\n\u001b[0;32m----> 3\u001b[0;31m \u001b[0m_43\u001b[0m\u001b[0;34m\u001b[0m\u001b[0;34m\u001b[0m\u001b[0m\n\u001b[0m",
            "\u001b[0;31mNameError\u001b[0m: name '_43' is not defined"
          ]
        }
      ]
    },
    {
      "cell_type": "code",
      "source": [
        "# The command you used in cell 43\n",
        "\n",
        "_i43"
      ],
      "metadata": {
        "id": "Znvgv9Qq2Q9o",
        "colab": {
          "base_uri": "https://localhost:8080/",
          "height": 37
        },
        "outputId": "1ac0f64e-9f5f-4b36-ea8b-6dd56ee4c24e"
      },
      "execution_count": 46,
      "outputs": [
        {
          "output_type": "execute_result",
          "data": {
            "text/plain": [
              "'b = [1,3,2]'"
            ],
            "application/vnd.google.colaboratory.intrinsic+json": {
              "type": "string"
            }
          },
          "metadata": {},
          "execution_count": 46
        }
      ]
    },
    {
      "cell_type": "markdown",
      "source": [
        "#**Funciones**"
      ],
      "metadata": {
        "id": "MKxfB34HvP-0"
      }
    },
    {
      "cell_type": "code",
      "source": [
        "def suma(a,b):\n",
        "  return a+b"
      ],
      "metadata": {
        "id": "UZzQ7_ME1ez_"
      },
      "execution_count": null,
      "outputs": []
    },
    {
      "cell_type": "code",
      "source": [
        "def suma(a,b=5):\n",
        "    \"\"\" suma dos números\n",
        "        Returns\n",
        "        ----\n",
        "        la_suma :  tipo de argumentos\n",
        "        Ejemplos\n",
        "        ----\n",
        "        \"\"\"\n",
        "    suma_de_numeros = a+b\n",
        "    return suma_de_numeros"
      ],
      "metadata": {
        "id": "k1VhnSuQuhMh"
      },
      "execution_count": 47,
      "outputs": []
    },
    {
      "cell_type": "code",
      "source": [
        "x = suma(5,b=2)"
      ],
      "metadata": {
        "id": "tMQrzYZjvst3"
      },
      "execution_count": 48,
      "outputs": []
    },
    {
      "cell_type": "code",
      "source": [
        "print(x)"
      ],
      "metadata": {
        "colab": {
          "base_uri": "https://localhost:8080/"
        },
        "id": "xwkdXaSI2wzr",
        "outputId": "af45125d-5d1d-4238-b0ba-efc755d7d3ea"
      },
      "execution_count": 49,
      "outputs": [
        {
          "output_type": "stream",
          "name": "stdout",
          "text": [
            "7\n"
          ]
        }
      ]
    },
    {
      "cell_type": "code",
      "source": [
        "suma(5)"
      ],
      "metadata": {
        "colab": {
          "base_uri": "https://localhost:8080/"
        },
        "id": "qIMZYwE40BNf",
        "outputId": "980040e6-131f-4bc3-de04-2558784fcb4c"
      },
      "execution_count": 50,
      "outputs": [
        {
          "output_type": "execute_result",
          "data": {
            "text/plain": [
              "10"
            ]
          },
          "metadata": {},
          "execution_count": 50
        }
      ]
    },
    {
      "cell_type": "markdown",
      "source": [
        "#Una breve introducción a Numpy\n",
        "te recomiendo revisar la documentación https://numpy.org/doc/stable/"
      ],
      "metadata": {
        "id": "H1JW2rpO5Gqr"
      }
    },
    {
      "cell_type": "code",
      "source": [
        "import numpy as np"
      ],
      "metadata": {
        "id": "rZIVqJQ85GTA"
      },
      "execution_count": 51,
      "outputs": []
    },
    {
      "cell_type": "code",
      "source": [
        "#Esta es otra forma de hacer una suma\n",
        "#Suma todos los elementos del arreglo, lista, tupla\n",
        "np.sum([5,2])"
      ],
      "metadata": {
        "colab": {
          "base_uri": "https://localhost:8080/"
        },
        "id": "0yGqNIjIuh9T",
        "outputId": "2a7bd1ff-6bb6-4aa3-c532-86961f491e93"
      },
      "execution_count": 53,
      "outputs": [
        {
          "output_type": "execute_result",
          "data": {
            "text/plain": [
              "7"
            ]
          },
          "metadata": {},
          "execution_count": 53
        }
      ]
    },
    {
      "cell_type": "markdown",
      "source": [
        "###Un tipo de dato muy importante y usado son los arreglos (arrays en inglés) y numpy nos ayuda a trabajar con ellos"
      ],
      "metadata": {
        "id": "KiFxukYt5a0K"
      }
    },
    {
      "cell_type": "code",
      "source": [
        "x = np.array([5,2,4])\n",
        "print(x)\n",
        "type(x)"
      ],
      "metadata": {
        "colab": {
          "base_uri": "https://localhost:8080/"
        },
        "id": "pjV9I8he5Bce",
        "outputId": "a06ec7c9-cf4a-4278-fcea-55c15272b0c8"
      },
      "execution_count": 54,
      "outputs": [
        {
          "output_type": "stream",
          "name": "stdout",
          "text": [
            "[5 2 4]\n"
          ]
        },
        {
          "output_type": "execute_result",
          "data": {
            "text/plain": [
              "numpy.ndarray"
            ]
          },
          "metadata": {},
          "execution_count": 54
        }
      ]
    },
    {
      "cell_type": "code",
      "source": [
        "len(x)"
      ],
      "metadata": {
        "colab": {
          "base_uri": "https://localhost:8080/"
        },
        "id": "CazBxWZw38WQ",
        "outputId": "c2681e28-f390-43f4-d898-be3e665f7ebe"
      },
      "execution_count": 55,
      "outputs": [
        {
          "output_type": "execute_result",
          "data": {
            "text/plain": [
              "3"
            ]
          },
          "metadata": {},
          "execution_count": 55
        }
      ]
    },
    {
      "cell_type": "code",
      "source": [
        "np.shape(x)"
      ],
      "metadata": {
        "colab": {
          "base_uri": "https://localhost:8080/"
        },
        "id": "BDVvzwMk3_x-",
        "outputId": "a92cb0e3-ab57-4c52-edb6-e32b6c92e569"
      },
      "execution_count": 56,
      "outputs": [
        {
          "output_type": "execute_result",
          "data": {
            "text/plain": [
              "(3,)"
            ]
          },
          "metadata": {},
          "execution_count": 56
        }
      ]
    },
    {
      "cell_type": "code",
      "source": [
        "x = np.arange(6)\n",
        "x"
      ],
      "metadata": {
        "colab": {
          "base_uri": "https://localhost:8080/"
        },
        "id": "9Zvw7kp0vrj5",
        "outputId": "218fb3ca-934f-4091-fc66-9909811a4e4e"
      },
      "execution_count": 57,
      "outputs": [
        {
          "output_type": "execute_result",
          "data": {
            "text/plain": [
              "array([0, 1, 2, 3, 4, 5])"
            ]
          },
          "metadata": {},
          "execution_count": 57
        }
      ]
    },
    {
      "cell_type": "code",
      "source": [
        "x = np.array([[1, 2, 3, 4], \n",
        "              [5, 6, 7, 8], \n",
        "              [9, 10, 11, 12]])\n",
        "x"
      ],
      "metadata": {
        "colab": {
          "base_uri": "https://localhost:8080/"
        },
        "id": "MQ5OD3Ag4vcf",
        "outputId": "d83f7a06-e8f4-44da-d94f-a2ed94fd823d"
      },
      "execution_count": 58,
      "outputs": [
        {
          "output_type": "execute_result",
          "data": {
            "text/plain": [
              "array([[ 1,  2,  3,  4],\n",
              "       [ 5,  6,  7,  8],\n",
              "       [ 9, 10, 11, 12]])"
            ]
          },
          "metadata": {},
          "execution_count": 58
        }
      ]
    },
    {
      "cell_type": "code",
      "source": [
        "np.shape(x)"
      ],
      "metadata": {
        "colab": {
          "base_uri": "https://localhost:8080/"
        },
        "id": "rvUs7wDe0Sn_",
        "outputId": "192a72b0-4b66-4a3e-cc65-fb8b5ffe9049"
      },
      "execution_count": 59,
      "outputs": [
        {
          "output_type": "execute_result",
          "data": {
            "text/plain": [
              "(3, 4)"
            ]
          },
          "metadata": {},
          "execution_count": 59
        }
      ]
    },
    {
      "cell_type": "code",
      "source": [
        "x = np.linspace(0,10,10)\n",
        "x"
      ],
      "metadata": {
        "colab": {
          "base_uri": "https://localhost:8080/"
        },
        "id": "9oEBEC6V6U5W",
        "outputId": "e4c185d6-938f-478d-92f7-4cae4d67c65a"
      },
      "execution_count": 60,
      "outputs": [
        {
          "output_type": "execute_result",
          "data": {
            "text/plain": [
              "array([ 0.        ,  1.11111111,  2.22222222,  3.33333333,  4.44444444,\n",
              "        5.55555556,  6.66666667,  7.77777778,  8.88888889, 10.        ])"
            ]
          },
          "metadata": {},
          "execution_count": 60
        }
      ]
    },
    {
      "cell_type": "code",
      "source": [
        "#primer número, último número, tamaño del paso\n",
        "x = np.arange(2, 9, 2)\n",
        "x"
      ],
      "metadata": {
        "colab": {
          "base_uri": "https://localhost:8080/"
        },
        "id": "qxKn8pg46lys",
        "outputId": "58d30eed-ae2b-4095-c842-642427d4dd79"
      },
      "execution_count": 61,
      "outputs": [
        {
          "output_type": "execute_result",
          "data": {
            "text/plain": [
              "array([2, 4, 6, 8])"
            ]
          },
          "metadata": {},
          "execution_count": 61
        }
      ]
    },
    {
      "cell_type": "code",
      "source": [
        "# default np.float64\n",
        "x = np.zeros(2, dtype=np.int64)\n",
        "x"
      ],
      "metadata": {
        "colab": {
          "base_uri": "https://localhost:8080/"
        },
        "id": "zpjG3f4i6pag",
        "outputId": "1fd6dcc5-7b88-4858-dd5a-ad14be3a89d0"
      },
      "execution_count": 62,
      "outputs": [
        {
          "output_type": "execute_result",
          "data": {
            "text/plain": [
              "array([0, 0])"
            ]
          },
          "metadata": {},
          "execution_count": 62
        }
      ]
    },
    {
      "cell_type": "code",
      "source": [
        "arr = np.array([2, 1, 5, 3, 7, 4, 6, 8])"
      ],
      "metadata": {
        "id": "r8pC-X6k7ZLR"
      },
      "execution_count": 63,
      "outputs": []
    },
    {
      "cell_type": "code",
      "source": [
        "np.sum(arr)"
      ],
      "metadata": {
        "colab": {
          "base_uri": "https://localhost:8080/"
        },
        "id": "1H8iC-cb7ejZ",
        "outputId": "c8e557b1-6349-4b77-a7f1-d2a02dcdf979"
      },
      "execution_count": 64,
      "outputs": [
        {
          "output_type": "execute_result",
          "data": {
            "text/plain": [
              "36"
            ]
          },
          "metadata": {},
          "execution_count": 64
        }
      ]
    },
    {
      "cell_type": "code",
      "source": [
        "np.sort(arr)"
      ],
      "metadata": {
        "colab": {
          "base_uri": "https://localhost:8080/"
        },
        "id": "yuey8CAr7jZR",
        "outputId": "b000d808-c112-4924-b76a-0ae1983b72e9"
      },
      "execution_count": 65,
      "outputs": [
        {
          "output_type": "execute_result",
          "data": {
            "text/plain": [
              "array([1, 2, 3, 4, 5, 6, 7, 8])"
            ]
          },
          "metadata": {},
          "execution_count": 65
        }
      ]
    },
    {
      "cell_type": "markdown",
      "source": [
        "#Indices\n",
        "`array[start:stop]`\n",
        "\n",
        "donde *start* es el índice del primer elemento a incluir y *stop* es el índice del elemento en el que detenerse sin incluirlo en el segmento(slice)"
      ],
      "metadata": {
        "id": "4dwyiQW_Whnw"
      }
    },
    {
      "cell_type": "markdown",
      "source": [
        "###y esto también se aplica para listas y tuplas https://realpython.com/lessons/indexing-and-slicing/ \n",
        "\n",
        "*  Omitir el primer índice `mylist[:n]` inicia el *slice* al principio de la lista.\n",
        "* Omitir el último índice `mylist[m:]` extiende el *slice* del primer índice  `m` al final de la lista.\n",
        "* Omitir ambos índices `mylist[:]` regresa una copia de la lista entera, pero a diferencia de una cadena, es una copia, no una referencia al mismo objeto."
      ],
      "metadata": {
        "id": "Xs-XvWrYbcGW"
      }
    },
    {
      "cell_type": "markdown",
      "source": [
        "NOTA: En los arreglos y listas, los índices empiezan a contar desde 0. Si queremos acceder a la última posición del arreglo, entonces utilizamos en índice -1."
      ],
      "metadata": {
        "id": "I_HB2RyW0g24"
      }
    },
    {
      "cell_type": "code",
      "source": [
        "arr = np.array([2, 1, 5, 3, 7, 4, 6, 8])"
      ],
      "metadata": {
        "id": "nO-26L-T5Mtu"
      },
      "execution_count": 66,
      "outputs": []
    },
    {
      "cell_type": "code",
      "source": [
        "arr[0::]"
      ],
      "metadata": {
        "colab": {
          "base_uri": "https://localhost:8080/"
        },
        "id": "cWJQHH_WdNLy",
        "outputId": "a49c2d24-bf2c-4ed3-f2ce-9ca40b436bd3"
      },
      "execution_count": 67,
      "outputs": [
        {
          "output_type": "execute_result",
          "data": {
            "text/plain": [
              "array([2, 1, 5, 3, 7, 4, 6, 8])"
            ]
          },
          "metadata": {},
          "execution_count": 67
        }
      ]
    },
    {
      "cell_type": "code",
      "source": [
        "np.shape(arr)"
      ],
      "metadata": {
        "colab": {
          "base_uri": "https://localhost:8080/"
        },
        "id": "1SzH3KksWKZt",
        "outputId": "2349b716-1b84-475b-8d0e-a0599fc41873"
      },
      "execution_count": 68,
      "outputs": [
        {
          "output_type": "execute_result",
          "data": {
            "text/plain": [
              "(8,)"
            ]
          },
          "metadata": {},
          "execution_count": 68
        }
      ]
    },
    {
      "cell_type": "code",
      "source": [
        "arr[0]"
      ],
      "metadata": {
        "colab": {
          "base_uri": "https://localhost:8080/"
        },
        "id": "HYUwnYrvWgqg",
        "outputId": "8eca34e8-ab48-40df-ca92-ff78485da90f"
      },
      "execution_count": 69,
      "outputs": [
        {
          "output_type": "execute_result",
          "data": {
            "text/plain": [
              "2"
            ]
          },
          "metadata": {},
          "execution_count": 69
        }
      ]
    },
    {
      "cell_type": "code",
      "source": [
        "arr[-3]"
      ],
      "metadata": {
        "colab": {
          "base_uri": "https://localhost:8080/"
        },
        "id": "FNEo_GAuWLBV",
        "outputId": "570ed44b-bafd-44c3-9cb2-834a04e4446c"
      },
      "execution_count": 70,
      "outputs": [
        {
          "output_type": "execute_result",
          "data": {
            "text/plain": [
              "4"
            ]
          },
          "metadata": {},
          "execution_count": 70
        }
      ]
    },
    {
      "cell_type": "code",
      "source": [
        "x = np.array([[1, 2, 3, 4], \n",
        "              [5, 6, 7, 8], \n",
        "              [9, 10, 11, 12]])"
      ],
      "metadata": {
        "id": "fq2FWZOJXAfb"
      },
      "execution_count": null,
      "outputs": []
    },
    {
      "cell_type": "code",
      "source": [
        "np.shape(x)"
      ],
      "metadata": {
        "colab": {
          "base_uri": "https://localhost:8080/"
        },
        "id": "wwNOR-sZXDro",
        "outputId": "38aa8b01-9419-4711-8173-1a2cb194afd6"
      },
      "execution_count": null,
      "outputs": [
        {
          "output_type": "execute_result",
          "data": {
            "text/plain": [
              "(3, 4)"
            ]
          },
          "metadata": {},
          "execution_count": 85
        }
      ]
    },
    {
      "cell_type": "code",
      "source": [
        "x[1,2]"
      ],
      "metadata": {
        "colab": {
          "base_uri": "https://localhost:8080/"
        },
        "id": "u4CXz2aDXEAU",
        "outputId": "798e7462-44c2-44ae-a02a-c1f3853b38ec"
      },
      "execution_count": null,
      "outputs": [
        {
          "output_type": "execute_result",
          "data": {
            "text/plain": [
              "7"
            ]
          },
          "metadata": {},
          "execution_count": 89
        }
      ]
    },
    {
      "cell_type": "code",
      "source": [
        "a = ['spam', 'egg', 'bacon', 'tomato', 'ham', 'lobster']"
      ],
      "metadata": {
        "id": "F47Vad8hbYYb"
      },
      "execution_count": 71,
      "outputs": []
    },
    {
      "cell_type": "code",
      "source": [
        "a[::2]"
      ],
      "metadata": {
        "colab": {
          "base_uri": "https://localhost:8080/"
        },
        "id": "-h-S3haIcVzx",
        "outputId": "d7578385-14d9-4110-eef6-7e1938b41301"
      },
      "execution_count": 72,
      "outputs": [
        {
          "output_type": "execute_result",
          "data": {
            "text/plain": [
              "['spam', 'bacon', 'ham']"
            ]
          },
          "metadata": {},
          "execution_count": 72
        }
      ]
    },
    {
      "cell_type": "markdown",
      "source": [
        "# Realiza las siguientes funciones:\n",
        "### Conversión Celsius-Fahrenheit \n",
        "  \n",
        "  $F = \\frac{9}{5}C + 32$\n",
        "   \n",
        "### Calcular sinh x para una x dada\n",
        "  \n",
        "  $\\sinh(x) = \\frac{1}{2}(e^x - e^{-x})$\n",
        "\n",
        "  Hint: x puede ser un arreglo\n",
        " \n",
        "### Calcular\n",
        "  sqrt(-1) \n",
        "\n",
        "  Hint: from cmath import sqrt\n",
        "\n",
        "###  Revisa la equivalencia\n",
        "\n",
        "  $sin^2(x) + cos^2(x) = 1$"
      ],
      "metadata": {
        "id": "fR4XxutrwwgC"
      }
    },
    {
      "cell_type": "code",
      "source": [
        "def CelsiusFahrenheit(TC):\n",
        "  F = 9.*TC/5. + 32.\n",
        "  return print('La temperatura',TC,'ºC en ºF es',F)"
      ],
      "metadata": {
        "id": "ROlPszvUvr_s"
      },
      "execution_count": 73,
      "outputs": []
    },
    {
      "cell_type": "code",
      "source": [
        "CelsiusFahrenheit(25)"
      ],
      "metadata": {
        "colab": {
          "base_uri": "https://localhost:8080/"
        },
        "id": "ZHLuLEFW1OZ5",
        "outputId": "59ab1b90-2da2-4712-9454-52ec5522fb76"
      },
      "execution_count": 74,
      "outputs": [
        {
          "output_type": "stream",
          "name": "stdout",
          "text": [
            "La temperatura 25 ºC en ºF es 77.0\n"
          ]
        }
      ]
    },
    {
      "cell_type": "markdown",
      "source": [
        "Ejercicio 2: Carcular sinh x"
      ],
      "metadata": {
        "id": "kjRDiHrl1k_m"
      }
    },
    {
      "cell_type": "code",
      "source": [
        "def sinh(x):\n",
        "  sinhyper = (np.exp(x) - np.exp(-x))/2.\n",
        "  return sinhyper"
      ],
      "metadata": {
        "id": "W4YRQldW1thO"
      },
      "execution_count": 77,
      "outputs": []
    },
    {
      "cell_type": "code",
      "source": [
        "x_pi = np.linspace(0,2.*np.pi,20)\n",
        "sinh(x_pi)"
      ],
      "metadata": {
        "colab": {
          "base_uri": "https://localhost:8080/"
        },
        "id": "D5Ms_aQB7JdZ",
        "outputId": "99c5ffd6-024e-4e1e-fa22-278c2c5483e0"
      },
      "execution_count": 78,
      "outputs": [
        {
          "output_type": "execute_result",
          "data": {
            "text/plain": [
              "array([  0.        ,   0.33675437,   0.71067253,   1.16301963,\n",
              "         1.7437161 ,   2.5168469 ,   3.56773376,   5.01235123,\n",
              "         7.01012549,   9.78152841,  13.63240851,  18.9877441 ,\n",
              "        26.43854328,  36.8070669 ,  51.2375722 ,  71.32259163,\n",
              "        99.27868271, 138.19104455, 192.35399654, 267.74489404])"
            ]
          },
          "metadata": {},
          "execution_count": 78
        }
      ]
    },
    {
      "cell_type": "markdown",
      "source": [
        "Ejercicio 3: Calcular la raíz cuadrada (sqrt) de -1"
      ],
      "metadata": {
        "id": "WN0zIb1S7YGk"
      }
    },
    {
      "cell_type": "code",
      "source": [
        "np.sqrt(-1)"
      ],
      "metadata": {
        "colab": {
          "base_uri": "https://localhost:8080/"
        },
        "id": "TyRjcR9Z7d59",
        "outputId": "a555c726-64a8-4c9c-8a29-e7ab4c30e83d"
      },
      "execution_count": 79,
      "outputs": [
        {
          "output_type": "stream",
          "name": "stderr",
          "text": [
            "<ipython-input-79-597592b72a04>:1: RuntimeWarning: invalid value encountered in sqrt\n",
            "  np.sqrt(-1)\n"
          ]
        },
        {
          "output_type": "execute_result",
          "data": {
            "text/plain": [
              "nan"
            ]
          },
          "metadata": {},
          "execution_count": 79
        }
      ]
    },
    {
      "cell_type": "markdown",
      "source": [
        "Numpy tiene integrada la función que calcula raíces, sin embargo no puede obtener la raíz de un número negativo (por definición, de números complejos)"
      ],
      "metadata": {
        "id": "kgGizb_L755p"
      }
    },
    {
      "cell_type": "code",
      "source": [
        "from cmath import sqrt"
      ],
      "metadata": {
        "id": "w_gJ9nf073R-"
      },
      "execution_count": 80,
      "outputs": []
    },
    {
      "cell_type": "code",
      "source": [
        "sqrt(-1)\n",
        "#En programación se suele usar la j para indicar el número complejo"
      ],
      "metadata": {
        "colab": {
          "base_uri": "https://localhost:8080/"
        },
        "id": "5qNMDJv079gw",
        "outputId": "9525837e-8012-424f-9986-14a8e75f2f83"
      },
      "execution_count": 81,
      "outputs": [
        {
          "output_type": "execute_result",
          "data": {
            "text/plain": [
              "1j"
            ]
          },
          "metadata": {},
          "execution_count": 81
        }
      ]
    },
    {
      "cell_type": "markdown",
      "source": [
        "Ejercicio 4: \n",
        "Revisar la equivalencia de la identidad trigonométrica\n",
        "$sin^{2}(x) + cos^{2}(x) = 1$"
      ],
      "metadata": {
        "id": "udCuH2a98Na8"
      }
    },
    {
      "cell_type": "markdown",
      "source": [
        "Para este ejercicio podemos utilizar el arreglo que definimos hace rato de 0 a 2$π$ y las funciones de numpy sin y cos"
      ],
      "metadata": {
        "id": "YQrCLsgy8iPX"
      }
    },
    {
      "cell_type": "code",
      "source": [
        "pow(np.sin(x_pi),2) + pow(np.cos(x_pi),2)"
      ],
      "metadata": {
        "colab": {
          "base_uri": "https://localhost:8080/"
        },
        "id": "c8932QVJ8gae",
        "outputId": "b478f722-4789-4a50-f50f-b48059eb946e"
      },
      "execution_count": 82,
      "outputs": [
        {
          "output_type": "execute_result",
          "data": {
            "text/plain": [
              "array([1., 1., 1., 1., 1., 1., 1., 1., 1., 1., 1., 1., 1., 1., 1., 1., 1.,\n",
              "       1., 1., 1.])"
            ]
          },
          "metadata": {},
          "execution_count": 82
        }
      ]
    },
    {
      "cell_type": "code",
      "source": [
        "np.sin(x_pi)**2. + np.cos(x_pi)**2"
      ],
      "metadata": {
        "colab": {
          "base_uri": "https://localhost:8080/"
        },
        "id": "xd2tSKuQ9Hb6",
        "outputId": "4ad6c9e2-a38a-481b-8b72-19f17dbf2d1d"
      },
      "execution_count": 83,
      "outputs": [
        {
          "output_type": "execute_result",
          "data": {
            "text/plain": [
              "array([1., 1., 1., 1., 1., 1., 1., 1., 1., 1., 1., 1., 1., 1., 1., 1., 1.,\n",
              "       1., 1., 1.])"
            ]
          },
          "metadata": {},
          "execution_count": 83
        }
      ]
    },
    {
      "cell_type": "markdown",
      "source": [
        "#Ahora graficaremos\n",
        "\n",
        "https://matplotlib.org\n"
      ],
      "metadata": {
        "id": "p8FLlA6lehI-"
      }
    },
    {
      "cell_type": "code",
      "source": [
        "import matplotlib.pyplot as plt"
      ],
      "metadata": {
        "id": "5svBL0mJehwV"
      },
      "execution_count": 84,
      "outputs": []
    },
    {
      "cell_type": "code",
      "source": [
        "x = np.linspace(0.,6.*np.pi,100)"
      ],
      "metadata": {
        "id": "LaAKCmXESjSq"
      },
      "execution_count": 85,
      "outputs": []
    },
    {
      "cell_type": "code",
      "source": [
        "plt.plot(x,np.sin(x),'o',label='sin')\n",
        "plt.plot(x,np.cos(x),'*',label = 'cos')\n",
        "plt.plot(x,np.tan(x),'+',label = 'tan')\n",
        "plt.legend(loc='lower left')\n",
        "plt.ylabel('angulo')"
      ],
      "metadata": {
        "colab": {
          "base_uri": "https://localhost:8080/",
          "height": 282
        },
        "id": "l_ivW72wSfp2",
        "outputId": "41eda98b-a750-4ec3-ec63-11a0c7110047"
      },
      "execution_count": 86,
      "outputs": [
        {
          "output_type": "execute_result",
          "data": {
            "text/plain": [
              "Text(0, 0.5, 'angulo')"
            ]
          },
          "metadata": {},
          "execution_count": 86
        },
        {
          "output_type": "display_data",
          "data": {
            "text/plain": [
              "<Figure size 432x288 with 1 Axes>"
            ],
            "image/png": "[encoded data removed]"
          },
          "metadata": {
            "needs_background": "light"
          }
        }
      ]
    },
    {
      "cell_type": "code",
      "source": [
        "x = np.random.normal(loc=0.,scale=1.,size=1000)"
      ],
      "metadata": {
        "id": "qcam2qxyvdc8"
      },
      "execution_count": 87,
      "outputs": []
    },
    {
      "cell_type": "code",
      "source": [
        "plt.hist(x,bins=20)"
      ],
      "metadata": {
        "colab": {
          "base_uri": "https://localhost:8080/",
          "height": 401
        },
        "id": "HTveQwKzvYiI",
        "outputId": "b5e11821-7472-4b6c-cb9a-4102130df82a"
      },
      "execution_count": 88,
      "outputs": [
        {
          "output_type": "execute_result",
          "data": {
            "text/plain": [
              "(array([  5.,   8.,  16.,  32.,  27.,  49.,  69., 103., 103., 144.,  94.,\n",
              "        108.,  86.,  54.,  38.,  33.,  18.,   9.,   2.,   2.]),\n",
              " array([-2.84229335, -2.54332956, -2.24436577, -1.94540198, -1.64643819,\n",
              "        -1.34747439, -1.0485106 , -0.74954681, -0.45058302, -0.15161923,\n",
              "         0.14734456,  0.44630835,  0.74527214,  1.04423593,  1.34319972,\n",
              "         1.64216352,  1.94112731,  2.2400911 ,  2.53905489,  2.83801868,\n",
              "         3.13698247]),\n",
              " <BarContainer object of 20 artists>)"
            ]
          },
          "metadata": {},
          "execution_count": 88
        },
        {
          "output_type": "display_data",
          "data": {
            "text/plain": [
              "<Figure size 432x288 with 1 Axes>"
            ],
            "image/png": "[encoded data removed]"
          },
          "metadata": {
            "needs_background": "light"
          }
        }
      ]
    },
    {
      "cell_type": "code",
      "source": [
        "import matplotlib.style as style\n",
        "style.use('seaborn-colorblind')\n",
        "#style.use('tableau-colorblind10')"
      ],
      "metadata": {
        "id": "Dn3IlAyWUuCC",
        "colab": {
          "base_uri": "https://localhost:8080/"
        },
        "outputId": "d0309208-3851-431b-f20e-d7024a466a47"
      },
      "execution_count": 89,
      "outputs": [
        {
          "output_type": "stream",
          "name": "stderr",
          "text": [
            "<ipython-input-89-8c24df2f280a>:2: MatplotlibDeprecationWarning: The seaborn styles shipped by Matplotlib are deprecated since 3.6, as they no longer correspond to the styles shipped by seaborn. However, they will remain available as 'seaborn-v0_8-<style>'. Alternatively, directly use the seaborn API instead.\n",
            "  style.use('seaborn-colorblind')\n"
          ]
        }
      ]
    },
    {
      "cell_type": "markdown",
      "source": [
        "##**Ejercicio:** Grafica otras funciones trigonométricas y/o la conversión en la temperatura usando la función que construiste arriba\n",
        "\n",
        "\n"
      ],
      "metadata": {
        "id": "d-DJ9rTRTFy0"
      }
    },
    {
      "cell_type": "code",
      "source": [
        "#Nota: Esta función se llama igual que la de la celda 73, sin embargo, regresa el valor de la conversión, en vez de imprimir \n",
        "def CelsiusFahrenheit(TC):\n",
        "  F = 9.*TC/5. + 32.\n",
        "  return F"
      ],
      "metadata": {
        "id": "EWDOmtkTMUxb"
      },
      "execution_count": 92,
      "outputs": []
    },
    {
      "cell_type": "code",
      "source": [
        "tempC = np.linspace(-10,100,120)"
      ],
      "metadata": {
        "id": "DbgXzY3wK7II"
      },
      "execution_count": 90,
      "outputs": []
    },
    {
      "cell_type": "code",
      "source": [
        "CelsiusFahrenheit(tempC[0])"
      ],
      "metadata": {
        "colab": {
          "base_uri": "https://localhost:8080/"
        },
        "id": "xtH3qJi-M_pu",
        "outputId": "42f6087c-a295-420a-9df3-db7329c5215d"
      },
      "execution_count": 97,
      "outputs": [
        {
          "output_type": "execute_result",
          "data": {
            "text/plain": [
              "14.0"
            ]
          },
          "metadata": {},
          "execution_count": 97
        }
      ]
    },
    {
      "cell_type": "code",
      "source": [
        "plt.plot(tempC,CelsiusFahrenheit(tempC),'k','o')\n",
        "plt.xlabel('Temperatura en ºC')\n",
        "plt.ylabel('Temperatura en ºF')\n",
        "plt.xlim(-10,100)\n",
        "plt.ylim(14,212)\n",
        "#plt.savefig('Nombre_de_tu_imagen.pdf')"
      ],
      "metadata": {
        "colab": {
          "base_uri": "https://localhost:8080/",
          "height": 296
        },
        "id": "xOsY7W3hL5p_",
        "outputId": "0687ac36-ba9e-4bf0-d15a-0cad16ae2c1c"
      },
      "execution_count": 98,
      "outputs": [
        {
          "output_type": "execute_result",
          "data": {
            "text/plain": [
              "(14.0, 212.0)"
            ]
          },
          "metadata": {},
          "execution_count": 98
        },
        {
          "output_type": "display_data",
          "data": {
            "text/plain": [
              "<Figure size 432x288 with 1 Axes>"
            ],
            "image/png": "[encoded data removed]"
          },
          "metadata": {
            "needs_background": "light"
          }
        }
      ]
    },
    {
      "cell_type": "code",
      "source": [
        "plt.plot(x,np.sin(x),'o',label='sin')\n",
        "plt.plot(x,np.cos(x),'*',label = 'cos')\n",
        "plt.plot(x,np.tan(x),'+',label = 'tan')\n",
        "plt.plot(x,np.sinh(x),'^',label='sinh')\n",
        "plt.plot(x,np.cosh(x),'<',label='cosh')\n",
        "plt.legend(loc='lower left')\n",
        "plt.ylim(-2,2)"
      ],
      "metadata": {
        "id": "5yVBFWsiS_cM",
        "colab": {
          "base_uri": "https://localhost:8080/",
          "height": 286
        },
        "outputId": "94bc5ef8-7087-4693-912f-36b83b78c957"
      },
      "execution_count": 106,
      "outputs": [
        {
          "output_type": "execute_result",
          "data": {
            "text/plain": [
              "(-2.0, 2.0)"
            ]
          },
          "metadata": {},
          "execution_count": 106
        },
        {
          "output_type": "display_data",
          "data": {
            "text/plain": [
              "<Figure size 432x288 with 1 Axes>"
            ],
            "image/png": "[encoded data removed]"
          },
          "metadata": {
            "needs_background": "light"
          }
        }
      ]
    },
    {
      "cell_type": "markdown",
      "source": [
        "# Condicionales"
      ],
      "metadata": {
        "id": "gvtM5Hl7Pb3V"
      }
    },
    {
      "cell_type": "code",
      "source": [
        "a = 33\n",
        "b = 200"
      ],
      "metadata": {
        "id": "GcZb3O-lQH3y"
      },
      "execution_count": 107,
      "outputs": []
    },
    {
      "cell_type": "code",
      "source": [
        "if b > a:\n",
        "  print(\"b es mayor que a\")"
      ],
      "metadata": {
        "colab": {
          "base_uri": "https://localhost:8080/"
        },
        "id": "sfD2FQ8LQGk1",
        "outputId": "2cef8787-7f90-4dab-fa2d-0206263a9d61"
      },
      "execution_count": 108,
      "outputs": [
        {
          "output_type": "stream",
          "name": "stdout",
          "text": [
            "b es mayor que a\n"
          ]
        }
      ]
    },
    {
      "cell_type": "code",
      "source": [
        "if b > a: print(\"b es mayor que a\")"
      ],
      "metadata": {
        "colab": {
          "base_uri": "https://localhost:8080/"
        },
        "id": "g3iz2bPZQK9L",
        "outputId": "f9c352d1-58fc-42a8-97fe-39efe4f9c091"
      },
      "execution_count": 109,
      "outputs": [
        {
          "output_type": "stream",
          "name": "stdout",
          "text": [
            "b es mayor que a\n"
          ]
        }
      ]
    },
    {
      "cell_type": "code",
      "source": [
        "a = 200\n",
        "b = 200\n",
        "c = 500"
      ],
      "metadata": {
        "id": "sCSW5F10RfOj"
      },
      "execution_count": 110,
      "outputs": []
    },
    {
      "cell_type": "code",
      "source": [
        "if a > b or a > c:\n",
        "  print(\"At least one of the conditions is True\")"
      ],
      "metadata": {
        "id": "kufnJZuQRf4A"
      },
      "execution_count": 111,
      "outputs": []
    },
    {
      "cell_type": "markdown",
      "source": [
        "# Podemos añadir más condiciones con **elif** y **else**"
      ],
      "metadata": {
        "id": "ILIz7e80QZey"
      }
    },
    {
      "cell_type": "code",
      "source": [
        "if b > a:\n",
        "  print(\"b es mayor que a\")\n",
        "elif b==a:\n",
        "  print(\"a y b son iguales\")\n",
        "else:\n",
        "  print(\"a es mayor b\")"
      ],
      "metadata": {
        "colab": {
          "base_uri": "https://localhost:8080/"
        },
        "id": "ncqc8H3ZQLe4",
        "outputId": "f8eb9903-8bf6-42e4-e6fb-0673471f2180"
      },
      "execution_count": 112,
      "outputs": [
        {
          "output_type": "stream",
          "name": "stdout",
          "text": [
            "a y b son iguales\n"
          ]
        }
      ]
    },
    {
      "cell_type": "markdown",
      "source": [
        "#Otra forma de usar condicionales\n",
        "Usando palíndromos"
      ],
      "metadata": {
        "id": "M5y_TgQQRBnd"
      }
    },
    {
      "cell_type": "code",
      "source": [
        "#texto=\"Anita lava la tina\"\n",
        "texto = \"Odiseo es ido\""
      ],
      "metadata": {
        "id": "LryWVRUCRAX1"
      },
      "execution_count": 113,
      "outputs": []
    },
    {
      "cell_type": "code",
      "source": [
        "texto=texto.lower()\n",
        "texto"
      ],
      "metadata": {
        "colab": {
          "base_uri": "https://localhost:8080/",
          "height": 37
        },
        "id": "pfHeVw6RPqIS",
        "outputId": "3f4aa04f-c3d1-4211-a86a-5cfab92725b3"
      },
      "execution_count": 114,
      "outputs": [
        {
          "output_type": "execute_result",
          "data": {
            "text/plain": [
              "'odiseo es ido'"
            ],
            "application/vnd.google.colaboratory.intrinsic+json": {
              "type": "string"
            }
          },
          "metadata": {},
          "execution_count": 114
        }
      ]
    },
    {
      "cell_type": "code",
      "source": [
        "#texto=texto.lower()                #Cambia mayúsculas por minúsculas\n",
        "texto=texto.replace(\" \", \"\")       #Elimina espacios en blanco\n",
        "texto"
      ],
      "metadata": {
        "id": "li_LtMTVQ77I",
        "colab": {
          "base_uri": "https://localhost:8080/",
          "height": 37
        },
        "outputId": "7a4c0d8a-d1db-4bb9-be1f-77b66b9d8f38"
      },
      "execution_count": 115,
      "outputs": [
        {
          "output_type": "execute_result",
          "data": {
            "text/plain": [
              "'odiseoesido'"
            ],
            "application/vnd.google.colaboratory.intrinsic+json": {
              "type": "string"
            }
          },
          "metadata": {},
          "execution_count": 115
        }
      ]
    },
    {
      "cell_type": "code",
      "source": [
        "texto[::-1]"
      ],
      "metadata": {
        "colab": {
          "base_uri": "https://localhost:8080/",
          "height": 37
        },
        "id": "Hn1ub7agP-_4",
        "outputId": "6f1d0530-2761-4161-dcd0-17ad0c24d27a"
      },
      "execution_count": 116,
      "outputs": [
        {
          "output_type": "execute_result",
          "data": {
            "text/plain": [
              "'odiseoesido'"
            ],
            "application/vnd.google.colaboratory.intrinsic+json": {
              "type": "string"
            }
          },
          "metadata": {},
          "execution_count": 116
        }
      ]
    },
    {
      "cell_type": "code",
      "source": [
        "# Verficiar palindromos\n",
        "if texto == texto[::-1]:\n",
        "    print(\"Es palindromo\")\n",
        "else:\n",
        "    print(\"No es palindromo\")"
      ],
      "metadata": {
        "id": "XWWoVm4DPryz",
        "colab": {
          "base_uri": "https://localhost:8080/"
        },
        "outputId": "cb0a4369-7abf-444c-ddea-059eae014244"
      },
      "execution_count": 117,
      "outputs": [
        {
          "output_type": "stream",
          "name": "stdout",
          "text": [
            "Es palindromo\n"
          ]
        }
      ]
    },
    {
      "cell_type": "markdown",
      "source": [
        "###Ejercicio: Revisa si el primer y último número de las siguientes listas son los mismos"
      ],
      "metadata": {
        "id": "eCEhcWGtTIoz"
      }
    },
    {
      "cell_type": "code",
      "source": [
        "x = [10, 20, 30, 40, 10]\n",
        "y = [75, 65, 35, 75, 30]"
      ],
      "metadata": {
        "id": "znu3LnOCSfOY"
      },
      "execution_count": 118,
      "outputs": []
    },
    {
      "cell_type": "code",
      "source": [
        "def primero_ultimo_mismos(lista):\n",
        "  print('La lista recibida es',lista)\n",
        "  ultimo = lista[-1]\n",
        "  primero = lista[0]\n",
        "    \n",
        "  if ultimo==primero:\n",
        "      return True\n",
        "  else:\n",
        "      return False"
      ],
      "metadata": {
        "id": "9FFo-KzQSgHM"
      },
      "execution_count": 119,
      "outputs": []
    },
    {
      "cell_type": "code",
      "source": [
        "primero_ultimo_mismos(x)"
      ],
      "metadata": {
        "colab": {
          "base_uri": "https://localhost:8080/"
        },
        "id": "-ikA1P-XUlbO",
        "outputId": "b11a179a-5af4-4148-cb26-072126b7bbc4"
      },
      "execution_count": 120,
      "outputs": [
        {
          "output_type": "stream",
          "name": "stdout",
          "text": [
            "La lista recibida es [10, 20, 30, 40, 10]\n"
          ]
        },
        {
          "output_type": "execute_result",
          "data": {
            "text/plain": [
              "True"
            ]
          },
          "metadata": {},
          "execution_count": 120
        }
      ]
    },
    {
      "cell_type": "code",
      "source": [
        "primero_ultimo_mismos(y)"
      ],
      "metadata": {
        "id": "22iEACLCVwGt",
        "colab": {
          "base_uri": "https://localhost:8080/"
        },
        "outputId": "dd86e719-730a-4aa5-9977-4b4d31e476f6"
      },
      "execution_count": 121,
      "outputs": [
        {
          "output_type": "stream",
          "name": "stdout",
          "text": [
            "La lista recibida es [75, 65, 35, 75, 30]\n"
          ]
        },
        {
          "output_type": "execute_result",
          "data": {
            "text/plain": [
              "False"
            ]
          },
          "metadata": {},
          "execution_count": 121
        }
      ]
    },
    {
      "cell_type": "markdown",
      "source": [
        "#Ahora aprenderemos a hacer ciclos\n",
        "###Hay dos formas de hacerlos\n",
        "\n",
        "\n",
        "1.   Usando **for**\n",
        "2.   Usando **while**\n",
        "\n"
      ],
      "metadata": {
        "id": "8cCXxP4s7w7a"
      }
    },
    {
      "cell_type": "code",
      "source": [
        "for i in range(10):\n",
        "    print(i,i**2)"
      ],
      "metadata": {
        "colab": {
          "base_uri": "https://localhost:8080/"
        },
        "id": "7FEcmgFJ8HDl",
        "outputId": "f1e67acf-7ff6-40bc-edf3-ce8dd4a271e6"
      },
      "execution_count": 122,
      "outputs": [
        {
          "output_type": "stream",
          "name": "stdout",
          "text": [
            "0 0\n",
            "1 1\n",
            "2 4\n",
            "3 9\n",
            "4 16\n",
            "5 25\n",
            "6 36\n",
            "7 49\n",
            "8 64\n",
            "9 81\n"
          ]
        }
      ]
    },
    {
      "cell_type": "code",
      "source": [
        "#Ciclos cortos se pueden escribir en una línea\n",
        "for i in range(10):print(i**2)"
      ],
      "metadata": {
        "colab": {
          "base_uri": "https://localhost:8080/"
        },
        "id": "KrP21aD68G1C",
        "outputId": "daad5068-8aff-4a43-896e-0dfbc5f2fcc9"
      },
      "execution_count": 123,
      "outputs": [
        {
          "output_type": "stream",
          "name": "stdout",
          "text": [
            "0\n",
            "1\n",
            "4\n",
            "9\n",
            "16\n",
            "25\n",
            "36\n",
            "49\n",
            "64\n",
            "81\n"
          ]
        }
      ]
    },
    {
      "cell_type": "markdown",
      "source": [
        "###Algunos comandos últiles son: **%time** y **%timeit**"
      ],
      "metadata": {
        "id": "YD3fYPUu8aWd"
      }
    },
    {
      "cell_type": "code",
      "source": [
        "%time for i in range(10):i**2"
      ],
      "metadata": {
        "colab": {
          "base_uri": "https://localhost:8080/"
        },
        "id": "mVCn-iPy8W70",
        "outputId": "a89e8ca6-6f15-403c-d57c-7e7b9941b024"
      },
      "execution_count": 124,
      "outputs": [
        {
          "output_type": "stream",
          "name": "stdout",
          "text": [
            "CPU times: user 13 µs, sys: 0 ns, total: 13 µs\n",
            "Wall time: 16 µs\n"
          ]
        }
      ]
    },
    {
      "cell_type": "code",
      "source": [
        "#Run the command several times and presents the info\n",
        "\n",
        "%timeit for i in range(10): i**2"
      ],
      "metadata": {
        "colab": {
          "base_uri": "https://localhost:8080/"
        },
        "id": "1Cvtm1H98GgH",
        "outputId": "308a9238-eaf2-4691-a282-d0c4bb1b36ff"
      },
      "execution_count": 125,
      "outputs": [
        {
          "output_type": "stream",
          "name": "stdout",
          "text": [
            "2.84 µs ± 64.1 ns per loop (mean ± std. dev. of 7 runs, 100000 loops each)\n"
          ]
        }
      ]
    },
    {
      "cell_type": "markdown",
      "source": [
        "###**while** generalmente se usa cuando tenemos una condición"
      ],
      "metadata": {
        "id": "ghT7Q6dr3Vsm"
      }
    },
    {
      "cell_type": "code",
      "source": [
        "i = 1"
      ],
      "metadata": {
        "id": "CtrVff_pLtAs"
      },
      "execution_count": 126,
      "outputs": []
    },
    {
      "cell_type": "code",
      "source": [
        "while i < 6:\n",
        "  print(i)\n",
        "  i += 1\n",
        "  #i = i+1"
      ],
      "metadata": {
        "id": "Oj8fBgWeLsxt",
        "colab": {
          "base_uri": "https://localhost:8080/"
        },
        "outputId": "b468d0ff-22ba-4f40-80f8-6917eeee2aec"
      },
      "execution_count": 127,
      "outputs": [
        {
          "output_type": "stream",
          "name": "stdout",
          "text": [
            "1\n",
            "2\n",
            "3\n",
            "4\n",
            "5\n"
          ]
        }
      ]
    },
    {
      "cell_type": "code",
      "source": [
        "i = 1\n",
        "while i < 6:\n",
        "  print(i)\n",
        "  if i == 3:\n",
        "    break\n",
        "  i += 1"
      ],
      "metadata": {
        "id": "ngmFHCwIWQul",
        "colab": {
          "base_uri": "https://localhost:8080/"
        },
        "outputId": "17cc33d4-72fa-40c5-f707-ad719faea8a3"
      },
      "execution_count": 128,
      "outputs": [
        {
          "output_type": "stream",
          "name": "stdout",
          "text": [
            "1\n",
            "2\n",
            "3\n"
          ]
        }
      ]
    },
    {
      "cell_type": "markdown",
      "source": [
        "#Ejercicio\n",
        "Dado un número que desees, has la suma de los números pares, desde cero hasta este número "
      ],
      "metadata": {
        "id": "Ky1rVT2LYWUN"
      }
    },
    {
      "cell_type": "code",
      "source": [
        "i = 0#esta variable será nuestro contador\n",
        "sum = 0#Esta variable guardará la suma\n",
        "n = int(input(\"Ingresa el número n: \"))#Queremos que n sea entero para que sea usado en la condición"
      ],
      "metadata": {
        "id": "Qz2wjp7aWS4_",
        "colab": {
          "base_uri": "https://localhost:8080/"
        },
        "outputId": "d31fc629-693c-4843-972c-41841a570640"
      },
      "execution_count": 129,
      "outputs": [
        {
          "name": "stdout",
          "output_type": "stream",
          "text": [
            "Ingresa el número n: 6\n"
          ]
        }
      ]
    },
    {
      "cell_type": "code",
      "source": [
        "while  i <= n:\n",
        "  #queremos sumar aquellos números pares, por eso nuestra condición es que el módulo 2 del número sea cero\n",
        "    if i % 2 == 0:\n",
        "      #si se cumple que i es un número par, entonces lo suma a la variable suma \n",
        "        sum += i# Esto es analogo a hacer sum = sum+i\n",
        "    #Afuera de nuestra condición aumentamos nuestro contador de i\n",
        "    i += 1\n",
        "        \n",
        "print(\"La suma de números pares hasta n:\",sum)"
      ],
      "metadata": {
        "id": "zVv9L3r4Yhso",
        "colab": {
          "base_uri": "https://localhost:8080/"
        },
        "outputId": "5699bd84-f761-48b8-8d6d-d8cb7c2d4f61"
      },
      "execution_count": 130,
      "outputs": [
        {
          "output_type": "stream",
          "name": "stdout",
          "text": [
            "La suma de números pares hasta n: 12\n"
          ]
        }
      ]
    },
    {
      "cell_type": "markdown",
      "source": [
        "#¿Cómo leer archivos?"
      ],
      "metadata": {
        "id": "NWwnTqSZxCdS"
      }
    },
    {
      "cell_type": "markdown",
      "source": [
        "https://pandas.pydata.org/docs/"
      ],
      "metadata": {
        "id": "meugAcnpVrDz"
      }
    },
    {
      "cell_type": "code",
      "source": [
        "import pandas as pd"
      ],
      "metadata": {
        "id": "epD-woqexB53"
      },
      "execution_count": 131,
      "outputs": []
    },
    {
      "cell_type": "code",
      "source": [
        "#En el path va la ruta de donde está tu archivo\n",
        "path_file = '/content/drive/MyDrive/Iris_data/'\n",
        "df = pd.read_csv(path_file+'Iris.csv')"
      ],
      "metadata": {
        "id": "3wrkbgC8xAOl"
      },
      "execution_count": 133,
      "outputs": []
    },
    {
      "cell_type": "code",
      "source": [
        "df.head()"
      ],
      "metadata": {
        "colab": {
          "base_uri": "https://localhost:8080/",
          "height": 204
        },
        "id": "truYfQlGxBYG",
        "outputId": "111ce687-a597-4cf7-a4ab-85f84dacfb07"
      },
      "execution_count": 134,
      "outputs": [
        {
          "output_type": "execute_result",
          "data": {
            "text/plain": [
              "   Id  SepalLengthCm  SepalWidthCm  PetalLengthCm  PetalWidthCm      Species\n",
              "0   1            5.1           3.5            1.4           0.2  Iris-setosa\n",
              "1   2            4.9           3.0            1.4           0.2  Iris-setosa\n",
              "2   3            4.7           3.2            1.3           0.2  Iris-setosa\n",
              "3   4            4.6           3.1            1.5           0.2  Iris-setosa\n",
              "4   5            5.0           3.6            1.4           0.2  Iris-setosa"
            ],
            "text/html": [
              "\n",
              "  <div id=\"df-cdb069f0-21ea-4ad1-b75f-9fd81ae73aa0\">\n",
              "    <div class=\"colab-df-container\">\n",
              "      <div>\n",
              "<style scoped>\n",
              "    .dataframe tbody tr th:only-of-type {\n",
              "        vertical-align: middle;\n",
              "    }\n",
              "\n",
              "    .dataframe tbody tr th {\n",
              "        vertical-align: top;\n",
              "    }\n",
              "\n",
              "    .dataframe thead th {\n",
              "        text-align: right;\n",
              "    }\n",
              "</style>\n",
              "<table border=\"1\" class=\"dataframe\">\n",
              "  <thead>\n",
              "    <tr style=\"text-align: right;\">\n",
              "      <th></th>\n",
              "      <th>Id</th>\n",
              "      <th>SepalLengthCm</th>\n",
              "      <th>SepalWidthCm</th>\n",
              "      <th>PetalLengthCm</th>\n",
              "      <th>PetalWidthCm</th>\n",
              "      <th>Species</th>\n",
              "    </tr>\n",
              "  </thead>\n",
              "  <tbody>\n",
              "    <tr>\n",
              "      <th>0</th>\n",
              "      <td>1</td>\n",
              "      <td>5.1</td>\n",
              "      <td>3.5</td>\n",
              "      <td>1.4</td>\n",
              "      <td>0.2</td>\n",
              "      <td>Iris-setosa</td>\n",
              "    </tr>\n",
              "    <tr>\n",
              "      <th>1</th>\n",
              "      <td>2</td>\n",
              "      <td>4.9</td>\n",
              "      <td>3.0</td>\n",
              "      <td>1.4</td>\n",
              "      <td>0.2</td>\n",
              "      <td>Iris-setosa</td>\n",
              "    </tr>\n",
              "    <tr>\n",
              "      <th>2</th>\n",
              "      <td>3</td>\n",
              "      <td>4.7</td>\n",
              "      <td>3.2</td>\n",
              "      <td>1.3</td>\n",
              "      <td>0.2</td>\n",
              "      <td>Iris-setosa</td>\n",
              "    </tr>\n",
              "    <tr>\n",
              "      <th>3</th>\n",
              "      <td>4</td>\n",
              "      <td>4.6</td>\n",
              "      <td>3.1</td>\n",
              "      <td>1.5</td>\n",
              "      <td>0.2</td>\n",
              "      <td>Iris-setosa</td>\n",
              "    </tr>\n",
              "    <tr>\n",
              "      <th>4</th>\n",
              "      <td>5</td>\n",
              "      <td>5.0</td>\n",
              "      <td>3.6</td>\n",
              "      <td>1.4</td>\n",
              "      <td>0.2</td>\n",
              "      <td>Iris-setosa</td>\n",
              "    </tr>\n",
              "  </tbody>\n",
              "</table>\n",
              "</div>\n",
              "      <button class=\"colab-df-convert\" onclick=\"convertToInteractive('df-cdb069f0-21ea-4ad1-b75f-9fd81ae73aa0')\"\n",
              "              title=\"Convert this dataframe to an interactive table.\"\n",
              "              style=\"display:none;\">\n",
              "        \n",
              "  <svg xmlns=\"http://www.w3.org/2000/svg\" height=\"24px\"viewBox=\"0 0 24 24\"\n",
              "       width=\"24px\">\n",
              "    <path d=\"M0 0h24v24H0V0z\" fill=\"none\"/>\n",
              "    <path d=\"M18.56 5.44l.94 2.06.94-2.06 2.06-.94-2.06-.94-.94-2.06-.94 2.06-2.06.94zm-11 1L8.5 8.5l.94-2.06 2.06-.94-2.06-.94L8.5 2.5l-.94 2.06-2.06.94zm10 10l.94 2.06.94-2.06 2.06-.94-2.06-.94-.94-2.06-.94 2.06-2.06.94z\"/><path d=\"M17.41 7.96l-1.37-1.37c-.4-.4-.92-.59-1.43-.59-.52 0-1.04.2-1.43.59L10.3 9.45l-7.72 7.72c-.78.78-.78 2.05 0 2.83L4 21.41c.39.39.9.59 1.41.59.51 0 1.02-.2 1.41-.59l7.78-7.78 2.81-2.81c.8-.78.8-2.07 0-2.86zM5.41 20L4 18.59l7.72-7.72 1.47 1.35L5.41 20z\"/>\n",
              "  </svg>\n",
              "      </button>\n",
              "      \n",
              "  <style>\n",
              "    .colab-df-container {\n",
              "      display:flex;\n",
              "      flex-wrap:wrap;\n",
              "      gap: 12px;\n",
              "    }\n",
              "\n",
              "    .colab-df-convert {\n",
              "      background-color: #E8F0FE;\n",
              "      border: none;\n",
              "      border-radius: 50%;\n",
              "      cursor: pointer;\n",
              "      display: none;\n",
              "      fill: #1967D2;\n",
              "      height: 32px;\n",
              "      padding: 0 0 0 0;\n",
              "      width: 32px;\n",
              "    }\n",
              "\n",
              "    .colab-df-convert:hover {\n",
              "      background-color: #E2EBFA;\n",
              "      box-shadow: 0px 1px 2px rgba(60, 64, 67, 0.3), 0px 1px 3px 1px rgba(60, 64, 67, 0.15);\n",
              "      fill: #174EA6;\n",
              "    }\n",
              "\n",
              "    [theme=dark] .colab-df-convert {\n",
              "      background-color: #3B4455;\n",
              "      fill: #D2E3FC;\n",
              "    }\n",
              "\n",
              "    [theme=dark] .colab-df-convert:hover {\n",
              "      background-color: #434B5C;\n",
              "      box-shadow: 0px 1px 3px 1px rgba(0, 0, 0, 0.15);\n",
              "      filter: drop-shadow(0px 1px 2px rgba(0, 0, 0, 0.3));\n",
              "      fill: #FFFFFF;\n",
              "    }\n",
              "  </style>\n",
              "\n",
              "      <script>\n",
              "        const buttonEl =\n",
              "          document.querySelector('#df-cdb069f0-21ea-4ad1-b75f-9fd81ae73aa0 button.colab-df-convert');\n",
              "        buttonEl.style.display =\n",
              "          google.colab.kernel.accessAllowed ? 'block' : 'none';\n",
              "\n",
              "        async function convertToInteractive(key) {\n",
              "          const element = document.querySelector('#df-cdb069f0-21ea-4ad1-b75f-9fd81ae73aa0');\n",
              "          const dataTable =\n",
              "            await google.colab.kernel.invokeFunction('convertToInteractive',\n",
              "                                                     [key], {});\n",
              "          if (!dataTable) return;\n",
              "\n",
              "          const docLinkHtml = 'Like what you see? Visit the ' +\n",
              "            '<a target=\"_blank\" href=https://colab.research.google.com/notebooks/data_table.ipynb>data table notebook</a>'\n",
              "            + ' to learn more about interactive tables.';\n",
              "          element.innerHTML = '';\n",
              "          dataTable['output_type'] = 'display_data';\n",
              "          await google.colab.output.renderOutput(dataTable, element);\n",
              "          const docLink = document.createElement('div');\n",
              "          docLink.innerHTML = docLinkHtml;\n",
              "          element.appendChild(docLink);\n",
              "        }\n",
              "      </script>\n",
              "    </div>\n",
              "  </div>\n",
              "  "
            ]
          },
          "metadata": {},
          "execution_count": 134
        }
      ]
    },
    {
      "cell_type": "code",
      "source": [
        "df.columns"
      ],
      "metadata": {
        "colab": {
          "base_uri": "https://localhost:8080/"
        },
        "id": "LQQ52Yau13dB",
        "outputId": "9bb55a90-76a0-4363-b08b-6f30ab76cfca"
      },
      "execution_count": 135,
      "outputs": [
        {
          "output_type": "execute_result",
          "data": {
            "text/plain": [
              "Index(['Id', 'SepalLengthCm', 'SepalWidthCm', 'PetalLengthCm', 'PetalWidthCm',\n",
              "       'Species'],\n",
              "      dtype='object')"
            ]
          },
          "metadata": {},
          "execution_count": 135
        }
      ]
    },
    {
      "cell_type": "code",
      "source": [
        "df.SepalLengthCm.hist(grid=False,bins=20,legend=True)"
      ],
      "metadata": {
        "colab": {
          "base_uri": "https://localhost:8080/",
          "height": 282
        },
        "id": "cIjpalc102N3",
        "outputId": "84ea073d-508d-4667-8a29-2c8b10d9f1b9"
      },
      "execution_count": 136,
      "outputs": [
        {
          "output_type": "execute_result",
          "data": {
            "text/plain": [
              "<Axes: >"
            ]
          },
          "metadata": {},
          "execution_count": 136
        },
        {
          "output_type": "display_data",
          "data": {
            "text/plain": [
              "<Figure size 432x288 with 1 Axes>"
            ],
            "image/png": "[encoded data removed]"
          },
          "metadata": {
            "needs_background": "light"
          }
        }
      ]
    },
    {
      "cell_type": "code",
      "source": [
        "df.Species.hist(grid=False,bins=20,legend=True)"
      ],
      "metadata": {
        "colab": {
          "base_uri": "https://localhost:8080/",
          "height": 282
        },
        "id": "6p1Vtytt02nB",
        "outputId": "83dd91b4-5d68-44bb-f363-69d80f0b0c76"
      },
      "execution_count": 137,
      "outputs": [
        {
          "output_type": "execute_result",
          "data": {
            "text/plain": [
              "<Axes: >"
            ]
          },
          "metadata": {},
          "execution_count": 137
        },
        {
          "output_type": "display_data",
          "data": {
            "text/plain": [
              "<Figure size 432x288 with 1 Axes>"
            ],
            "image/png": "[encoded data removed]"
          },
          "metadata": {
            "needs_background": "light"
          }
        }
      ]
    },
    {
      "cell_type": "code",
      "source": [
        "df[\"Species\"].value_counts()"
      ],
      "metadata": {
        "colab": {
          "base_uri": "https://localhost:8080/"
        },
        "id": "86oGFuWgXFp4",
        "outputId": "915cb35a-9d3e-4217-a4ed-ceea42a65117"
      },
      "execution_count": 138,
      "outputs": [
        {
          "output_type": "execute_result",
          "data": {
            "text/plain": [
              "Iris-setosa        50\n",
              "Iris-versicolor    50\n",
              "Iris-virginica     50\n",
              "Name: Species, dtype: int64"
            ]
          },
          "metadata": {},
          "execution_count": 138
        }
      ]
    },
    {
      "cell_type": "code",
      "source": [
        "# df[\"column_name\"].sum()\n",
        "\n",
        "sum_df = df[\"SepalLengthCm\"].sum()\n",
        "mean_df = df[\"SepalLengthCm\"].mean()\n",
        "median_df = df[\"SepalLengthCm\"].median()\n",
        "\n",
        "print(\"Sum:\",sum_df, \"\\nMean:\", mean_df, \"\\nMedian:\",median_df)"
      ],
      "metadata": {
        "colab": {
          "base_uri": "https://localhost:8080/"
        },
        "id": "HFPfP6aKWubB",
        "outputId": "92ddee2b-403e-4e80-912f-c637bc92818a"
      },
      "execution_count": 139,
      "outputs": [
        {
          "output_type": "stream",
          "name": "stdout",
          "text": [
            "Sum: 876.5 \n",
            "Mean: 5.843333333333334 \n",
            "Median: 5.8\n"
          ]
        }
      ]
    },
    {
      "cell_type": "code",
      "source": [
        "min_df=df[\"SepalLengthCm\"].min()\n",
        "max_df=df[\"SepalLengthCm\"].max()\n",
        "\n",
        "print(\"Minimum:\",min_df, \"\\nMaximum:\", max_df)"
      ],
      "metadata": {
        "colab": {
          "base_uri": "https://localhost:8080/"
        },
        "id": "lRS2hHwIWu0h",
        "outputId": "9090d3c4-e909-4c5f-e58e-ee5daee64211"
      },
      "execution_count": 140,
      "outputs": [
        {
          "output_type": "stream",
          "name": "stdout",
          "text": [
            "Minimum: 4.3 \n",
            "Maximum: 7.9\n"
          ]
        }
      ]
    },
    {
      "cell_type": "code",
      "source": [
        "df.corr(method='pearson')"
      ],
      "metadata": {
        "colab": {
          "base_uri": "https://localhost:8080/",
          "height": 204
        },
        "id": "etHZDCfXWvMg",
        "outputId": "f18fc588-ddaf-4a38-e26b-9d6eb2d2a813"
      },
      "execution_count": 141,
      "outputs": [
        {
          "output_type": "execute_result",
          "data": {
            "text/plain": [
              "                     Id  SepalLengthCm  SepalWidthCm  PetalLengthCm  \\\n",
              "Id             1.000000       0.716676     -0.397729       0.882747   \n",
              "SepalLengthCm  0.716676       1.000000     -0.109369       0.871754   \n",
              "SepalWidthCm  -0.397729      -0.109369      1.000000      -0.420516   \n",
              "PetalLengthCm  0.882747       0.871754     -0.420516       1.000000   \n",
              "PetalWidthCm   0.899759       0.817954     -0.356544       0.962757   \n",
              "\n",
              "               PetalWidthCm  \n",
              "Id                 0.899759  \n",
              "SepalLengthCm      0.817954  \n",
              "SepalWidthCm      -0.356544  \n",
              "PetalLengthCm      0.962757  \n",
              "PetalWidthCm       1.000000  "
            ],
            "text/html": [
              "\n",
              "  <div id=\"df-cc362bc2-f83e-4ec4-97b1-e28ee56b8036\">\n",
              "    <div class=\"colab-df-container\">\n",
              "      <div>\n",
              "<style scoped>\n",
              "    .dataframe tbody tr th:only-of-type {\n",
              "        vertical-align: middle;\n",
              "    }\n",
              "\n",
              "    .dataframe tbody tr th {\n",
              "        vertical-align: top;\n",
              "    }\n",
              "\n",
              "    .dataframe thead th {\n",
              "        text-align: right;\n",
              "    }\n",
              "</style>\n",
              "<table border=\"1\" class=\"dataframe\">\n",
              "  <thead>\n",
              "    <tr style=\"text-align: right;\">\n",
              "      <th></th>\n",
              "      <th>Id</th>\n",
              "      <th>SepalLengthCm</th>\n",
              "      <th>SepalWidthCm</th>\n",
              "      <th>PetalLengthCm</th>\n",
              "      <th>PetalWidthCm</th>\n",
              "    </tr>\n",
              "  </thead>\n",
              "  <tbody>\n",
              "    <tr>\n",
              "      <th>Id</th>\n",
              "      <td>1.000000</td>\n",
              "      <td>0.716676</td>\n",
              "      <td>-0.397729</td>\n",
              "      <td>0.882747</td>\n",
              "      <td>0.899759</td>\n",
              "    </tr>\n",
              "    <tr>\n",
              "      <th>SepalLengthCm</th>\n",
              "      <td>0.716676</td>\n",
              "      <td>1.000000</td>\n",
              "      <td>-0.109369</td>\n",
              "      <td>0.871754</td>\n",
              "      <td>0.817954</td>\n",
              "    </tr>\n",
              "    <tr>\n",
              "      <th>SepalWidthCm</th>\n",
              "      <td>-0.397729</td>\n",
              "      <td>-0.109369</td>\n",
              "      <td>1.000000</td>\n",
              "      <td>-0.420516</td>\n",
              "      <td>-0.356544</td>\n",
              "    </tr>\n",
              "    <tr>\n",
              "      <th>PetalLengthCm</th>\n",
              "      <td>0.882747</td>\n",
              "      <td>0.871754</td>\n",
              "      <td>-0.420516</td>\n",
              "      <td>1.000000</td>\n",
              "      <td>0.962757</td>\n",
              "    </tr>\n",
              "    <tr>\n",
              "      <th>PetalWidthCm</th>\n",
              "      <td>0.899759</td>\n",
              "      <td>0.817954</td>\n",
              "      <td>-0.356544</td>\n",
              "      <td>0.962757</td>\n",
              "      <td>1.000000</td>\n",
              "    </tr>\n",
              "  </tbody>\n",
              "</table>\n",
              "</div>\n",
              "      <button class=\"colab-df-convert\" onclick=\"convertToInteractive('df-cc362bc2-f83e-4ec4-97b1-e28ee56b8036')\"\n",
              "              title=\"Convert this dataframe to an interactive table.\"\n",
              "              style=\"display:none;\">\n",
              "        \n",
              "  <svg xmlns=\"http://www.w3.org/2000/svg\" height=\"24px\"viewBox=\"0 0 24 24\"\n",
              "       width=\"24px\">\n",
              "    <path d=\"M0 0h24v24H0V0z\" fill=\"none\"/>\n",
              "    <path d=\"M18.56 5.44l.94 2.06.94-2.06 2.06-.94-2.06-.94-.94-2.06-.94 2.06-2.06.94zm-11 1L8.5 8.5l.94-2.06 2.06-.94-2.06-.94L8.5 2.5l-.94 2.06-2.06.94zm10 10l.94 2.06.94-2.06 2.06-.94-2.06-.94-.94-2.06-.94 2.06-2.06.94z\"/><path d=\"M17.41 7.96l-1.37-1.37c-.4-.4-.92-.59-1.43-.59-.52 0-1.04.2-1.43.59L10.3 9.45l-7.72 7.72c-.78.78-.78 2.05 0 2.83L4 21.41c.39.39.9.59 1.41.59.51 0 1.02-.2 1.41-.59l7.78-7.78 2.81-2.81c.8-.78.8-2.07 0-2.86zM5.41 20L4 18.59l7.72-7.72 1.47 1.35L5.41 20z\"/>\n",
              "  </svg>\n",
              "      </button>\n",
              "      \n",
              "  <style>\n",
              "    .colab-df-container {\n",
              "      display:flex;\n",
              "      flex-wrap:wrap;\n",
              "      gap: 12px;\n",
              "    }\n",
              "\n",
              "    .colab-df-convert {\n",
              "      background-color: #E8F0FE;\n",
              "      border: none;\n",
              "      border-radius: 50%;\n",
              "      cursor: pointer;\n",
              "      display: none;\n",
              "      fill: #1967D2;\n",
              "      height: 32px;\n",
              "      padding: 0 0 0 0;\n",
              "      width: 32px;\n",
              "    }\n",
              "\n",
              "    .colab-df-convert:hover {\n",
              "      background-color: #E2EBFA;\n",
              "      box-shadow: 0px 1px 2px rgba(60, 64, 67, 0.3), 0px 1px 3px 1px rgba(60, 64, 67, 0.15);\n",
              "      fill: #174EA6;\n",
              "    }\n",
              "\n",
              "    [theme=dark] .colab-df-convert {\n",
              "      background-color: #3B4455;\n",
              "      fill: #D2E3FC;\n",
              "    }\n",
              "\n",
              "    [theme=dark] .colab-df-convert:hover {\n",
              "      background-color: #434B5C;\n",
              "      box-shadow: 0px 1px 3px 1px rgba(0, 0, 0, 0.15);\n",
              "      filter: drop-shadow(0px 1px 2px rgba(0, 0, 0, 0.3));\n",
              "      fill: #FFFFFF;\n",
              "    }\n",
              "  </style>\n",
              "\n",
              "      <script>\n",
              "        const buttonEl =\n",
              "          document.querySelector('#df-cc362bc2-f83e-4ec4-97b1-e28ee56b8036 button.colab-df-convert');\n",
              "        buttonEl.style.display =\n",
              "          google.colab.kernel.accessAllowed ? 'block' : 'none';\n",
              "\n",
              "        async function convertToInteractive(key) {\n",
              "          const element = document.querySelector('#df-cc362bc2-f83e-4ec4-97b1-e28ee56b8036');\n",
              "          const dataTable =\n",
              "            await google.colab.kernel.invokeFunction('convertToInteractive',\n",
              "                                                     [key], {});\n",
              "          if (!dataTable) return;\n",
              "\n",
              "          const docLinkHtml = 'Like what you see? Visit the ' +\n",
              "            '<a target=\"_blank\" href=https://colab.research.google.com/notebooks/data_table.ipynb>data table notebook</a>'\n",
              "            + ' to learn more about interactive tables.';\n",
              "          element.innerHTML = '';\n",
              "          dataTable['output_type'] = 'display_data';\n",
              "          await google.colab.output.renderOutput(dataTable, element);\n",
              "          const docLink = document.createElement('div');\n",
              "          docLink.innerHTML = docLinkHtml;\n",
              "          element.appendChild(docLink);\n",
              "        }\n",
              "      </script>\n",
              "    </div>\n",
              "  </div>\n",
              "  "
            ]
          },
          "metadata": {},
          "execution_count": 141
        }
      ]
    },
    {
      "cell_type": "code",
      "source": [
        "#Otra forma de leer archivos\n",
        "galaxia = np.loadtxt('/content/drive/MyDrive/data_LBSG/DDO168_rotmod.dat')"
      ],
      "metadata": {
        "id": "oXI6FTgdzcrl"
      },
      "execution_count": 143,
      "outputs": []
    },
    {
      "cell_type": "code",
      "source": [
        "galaxia"
      ],
      "metadata": {
        "colab": {
          "base_uri": "https://localhost:8080/"
        },
        "id": "J6cdt-UNzrU4",
        "outputId": "6f1df4a1-bf51-4b40-dff6-95bbf959eb14"
      },
      "execution_count": 144,
      "outputs": [
        {
          "output_type": "execute_result",
          "data": {
            "text/plain": [
              "array([[ 0.41, 15.  ,  4.1 , 10.41,  8.28,  0.  , 20.43,  0.  ],\n",
              "       [ 0.82, 23.4 ,  1.3 , 18.08, 12.66,  0.  , 14.59,  0.  ],\n",
              "       [ 1.24, 29.2 ,  1.5 , 20.09, 15.11,  0.  ,  8.79,  0.  ],\n",
              "       [ 1.64, 36.2 ,  1.1 , 20.2 , 15.99,  0.  ,  5.9 ,  0.  ],\n",
              "       [ 2.06, 44.  ,  1.1 , 22.  , 16.89,  0.  ,  4.09,  0.  ],\n",
              "       [ 2.47, 52.1 ,  1.2 , 22.63, 17.03,  0.  ,  2.87,  0.  ],\n",
              "       [ 2.89, 52.9 ,  1.7 , 22.95, 16.99,  0.  ,  2.09,  0.  ],\n",
              "       [ 3.3 , 54.8 ,  2.2 , 22.74, 17.19,  0.  ,  1.56,  0.  ],\n",
              "       [ 3.71, 55.  ,  2.5 , 22.74, 17.16,  0.  ,  0.82,  0.  ],\n",
              "       [ 4.12, 52.  ,  2.7 , 22.74, 16.37,  0.  ,  0.  ,  0.  ]])"
            ]
          },
          "metadata": {},
          "execution_count": 144
        }
      ]
    },
    {
      "cell_type": "markdown",
      "source": [
        "A diferencia de pandas, loadtxt de numpy no me dice nada de que es cada columna.\n",
        "En el caso del archivo que estoy leyendo los encabezados son:\n",
        "\n",
        " Rad\t   Vobs\t   errV\t  Vgas\t  Vdisk\tVbul\tSBdisk\tSBbul\t\t\n",
        " [kpc]\t[km/s]\t[km/s]\t[km/s]\t[km/s]\t[km/s]\t[L/pc^2]\t[L/pc^2]"
      ],
      "metadata": {
        "id": "q0vD18eTQe8_"
      }
    },
    {
      "cell_type": "markdown",
      "source": [
        "Vamos a leer las primeras tres columnas, la primera corresponde a la distancia radial desde el centro, la segunda es la velocidad observada y la tercerra el error de esta velocidad"
      ],
      "metadata": {
        "id": "3q2w7thXRhdO"
      }
    },
    {
      "cell_type": "code",
      "source": [
        "vecRp = np.array([row[0] for row in galaxia])# galactocentric distance [kpc]\n",
        "vecvRp = np.array([row[1] for row in galaxia])# rotation velocity [km/s]\n",
        "vecerrvRp = np.array([row[2] for row in galaxia])# error in rotation velocity [km/s]"
      ],
      "metadata": {
        "id": "6m4dynhIQdQp"
      },
      "execution_count": 145,
      "outputs": []
    },
    {
      "cell_type": "code",
      "source": [
        "plt.errorbar(vecRp,vecvRp,yerr=vecerrvRp,fmt='.',label='data')\n",
        "plt.ylabel(r'$v_{c}(r)$[km/s]')\n",
        "plt.xlabel(\"r[kpc]\")\n",
        "plt.legend(loc='lower right')\n",
        "plt.title('DDO168')"
      ],
      "metadata": {
        "colab": {
          "base_uri": "https://localhost:8080/",
          "height": 312
        },
        "id": "NDyL-0d4Qb3V",
        "outputId": "f2693e18-e309-4212-9f4e-2cb4015208bd"
      },
      "execution_count": 146,
      "outputs": [
        {
          "output_type": "execute_result",
          "data": {
            "text/plain": [
              "Text(0.5, 1.0, 'DDO168')"
            ]
          },
          "metadata": {},
          "execution_count": 146
        },
        {
          "output_type": "display_data",
          "data": {
            "text/plain": [
              "<Figure size 432x288 with 1 Axes>"
            ],
            "image/png": "[encoded data removed]"
          },
          "metadata": {
            "needs_background": "light"
          }
        }
      ]
    },
    {
      "cell_type": "code",
      "source": [
        "import seaborn as sns"
      ],
      "metadata": {
        "id": "E65_evOLY_Lr"
      },
      "execution_count": 147,
      "outputs": []
    },
    {
      "cell_type": "markdown",
      "source": [
        "Noten que seaborn tomó el estilo que cargamos de matplotlib"
      ],
      "metadata": {
        "id": "-J63KNJyS21G"
      }
    },
    {
      "cell_type": "code",
      "source": [
        "g = sns.pairplot(df,hue=\"Species\")"
      ],
      "metadata": {
        "colab": {
          "base_uri": "https://localhost:8080/",
          "height": 903
        },
        "id": "-b5-ikLRYSrv",
        "outputId": "33472539-261b-4dbb-a802-450d22f601df"
      },
      "execution_count": 148,
      "outputs": [
        {
          "output_type": "display_data",
          "data": {
            "text/plain": [
              "<Figure size 1003.25x900 with 30 Axes>"
            ],
            "image/png": "[encoded data removed]"
          },
          "metadata": {
            "needs_background": "light"
          }
        }
      ]
    },
    {
      "cell_type": "markdown",
      "source": [
        "Links de interés\n",
        "\n",
        "\n",
        "\n",
        "*   https://www.educative.io/courses/python-101-interactively-learn-how-to-program-with-python-3\n",
        "*   https://www.codecademy.com/catalog/language/python\n",
        "*   https://www.freecodecamp.org/news/python-projects-for-beginners/\n",
        "*  https://www.kaggle.com/datasets/saurabh00007/iriscsv\n",
        "*  https://www.geeksforgeeks.org/python-basics-of-pandas-using-iris-dataset/\n",
        "*  https://www.geeksforgeeks.org/plotting-graph-for-iris-dataset-using-seaborn-and-matplotlib/?ref=rp\n",
        "*  https://aloa.co/blog/what-is-code-repository-best-code-repo-hosting-2021\n",
        "\n"
      ],
      "metadata": {
        "id": "jHY1I-plP49y"
      }
    },
    {
      "cell_type": "code",
      "source": [],
      "metadata": {
        "id": "pomcvnyFw_Au"
      },
      "execution_count": null,
      "outputs": []
    }
  ]
}