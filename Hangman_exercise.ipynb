{
  "nbformat": 4,
  "nbformat_minor": 0,
  "metadata": {
    "colab": {
      "provenance": [],
      "mount_file_id": "1fLYo4VZQk5BvxgvvkZoQodngDXWUU4Ca",
      "authorship_tag": "ABX9TyNcZQvGgSv9sq9ORdZovC8x",
      "include_colab_link": true
    },
    "kernelspec": {
      "name": "python3",
      "display_name": "Python 3"
    },
    "language_info": {
      "name": "python"
    }
  },
  "cells": [
    {
      "cell_type": "markdown",
      "metadata": {
        "id": "view-in-github",
        "colab_type": "text"
      },
      "source": [
        "<a href=\"https://colab.research.google.com/github/atalianb/ShePlusPlusIV/blob/main/Hangman_exercise.ipynb\" target=\"_parent\"><img src=\"https://colab.research.google.com/assets/colab-badge.svg\" alt=\"Open In Colab\"/></a>"
      ]
    },
    {
      "cell_type": "markdown",
      "source": [
        "En este ejercicio pondremos nuestros conocimientos en práctica, aquí te doy un esqueleto que te servirá para poder resolver el ejercicio"
      ],
      "metadata": {
        "id": "fpYHnHrAgXac"
      }
    },
    {
      "cell_type": "code",
      "source": [
        "import string"
      ],
      "metadata": {
        "id": "lTyMw5Ui1m4k"
      },
      "execution_count": null,
      "outputs": []
    },
    {
      "cell_type": "code",
      "source": [
        "word = #Elige una palabra, te recomiendo utulizarla en mayúsculas"
      ],
      "metadata": {
        "id": "LvNJ5xB4Ndx9"
      },
      "execution_count": null,
      "outputs": []
    },
    {
      "cell_type": "markdown",
      "source": [
        "En Python puedes importar otros archivos .py (scripts) para utilizar su contenido, ya sean funciones o diccionarios como lo hacemos en la siguiente línea"
      ],
      "metadata": {
        "id": "rSLys2v8gWcl"
      }
    },
    {
      "cell_type": "code",
      "source": [
        "from drive.MyDrive.Hangman.hangman_visual import lives_visual_dict"
      ],
      "metadata": {
        "id": "8NqI00bCPDYn"
      },
      "execution_count": null,
      "outputs": []
    },
    {
      "cell_type": "markdown",
      "source": [
        "Para importar el contenido del archivo .py es importante saber la ruta en donde se encuentra el archivo. Para poder utilizarlo en colab hice una carpeta llamada **Hangman** que contiene el archivo \n",
        "\n",
        "```\n",
        "hangman_visual.py\n",
        "```\n",
        "y su ruta es \n",
        "\n",
        "/content/drive/MyDrive/Hangman/hangman_visual.py\n",
        "\n",
        "Por eso la forma en que importamos el script que contiene el diccionario es \n",
        "\n",
        "```\n",
        "drive.MyDrive.Hangman.hangman_visual\n",
        "```\n",
        "Dentro de **hangman_visual.py** verán definido un diccionario llamado **lives_visual_dict**, así que si hubiera más diccionarios definidos dentro del archivo .py con la línea \n",
        "\n",
        "\n",
        "```\n",
        "from drive.MyDrive.Hangman.hangman_visual import lives_visual_dict\n",
        "```\n",
        "únicamente estamos llamando al diccionario **lives_visual_dict**\n",
        "\n",
        "Otra forma de importar el contenido de un archivo .py es \n",
        "\n",
        "\n",
        "```\n",
        "# import hangman_visual\n",
        "```\n",
        "de esta forma importamos todo el contenido del archivo\n"
      ],
      "metadata": {
        "id": "B5ovmrQGEDF6"
      }
    },
    {
      "cell_type": "code",
      "source": [
        "!pwd"
      ],
      "metadata": {
        "colab": {
          "base_uri": "https://localhost:8080/"
        },
        "id": "CMn94rQjFC8q",
        "outputId": "876e4a4d-53c7-4084-c259-0f9605f3199d"
      },
      "execution_count": 1,
      "outputs": [
        {
          "output_type": "stream",
          "name": "stdout",
          "text": [
            "/content\n"
          ]
        }
      ]
    },
    {
      "cell_type": "code",
      "execution_count": null,
      "metadata": {
        "id": "iP_4X2uq1kb6"
      },
      "outputs": [],
      "source": [
        "\n",
        "def hangman():\n",
        "    word_letters = set(word)  # letras en la palabra\n",
        "    alphabet = set(string.ascii_uppercase)\n",
        "    used_letters = set()  # Letras usadas\n",
        "\n",
        "    lives = #El número de vidas que quieras\n",
        "\n",
        "    # getting user input\n",
        "    while len(word_letters) > 0 and lives > 0:\n",
        "        # letters used\n",
        "        # ' '.join(['a', 'b', 'cd']) --> 'a b cd'\n",
        "        print('Tienes ', lives, 'vidas restantes y has usado las siguientes letras: ', ' '.join(used_letters))\n",
        "\n",
        "        # what current word is (ie W - R D)\n",
        "        word_list = [letter if letter in used_letters else '-' for letter in word]\n",
        "        print(lives_visual_dict[lives])\n",
        "        print('Current word: ', ' '.join(word_list))\n",
        "\n",
        "        user_letter = input('Guess a letter: ').upper()\n",
        "        \n",
        "\n",
        "\n",
        "\n",
        "\n",
        "\n",
        "\n",
        "\n",
        "        \n",
        "    # when len(word_letters) == 0 OR when lives == 0\n",
        " \n",
        "\n",
        "\n",
        "if __name__ == '__main__':\n",
        "    hangman()"
      ]
    },
    {
      "cell_type": "code",
      "source": [],
      "metadata": {
        "id": "JFtCw-7B1l1U"
      },
      "execution_count": null,
      "outputs": []
    },
    {
      "cell_type": "markdown",
      "source": [
        "https://realpython.com/if-name-main-python/"
      ],
      "metadata": {
        "id": "0O_uHdy0Xpzn"
      }
    },
    {
      "cell_type": "code",
      "source": [],
      "metadata": {
        "id": "ZXa2Z3LfXqhD"
      },
      "execution_count": null,
      "outputs": []
    }
  ]
}