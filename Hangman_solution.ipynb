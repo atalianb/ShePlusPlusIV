{
  "nbformat": 4,
  "nbformat_minor": 0,
  "metadata": {
    "colab": {
      "provenance": [],
      "mount_file_id": "1eMzwGTokxXOk_CesarJxwKVJ9pgbn_X5",
      "authorship_tag": "ABX9TyP2/MvYjoLWv47w7Lys7YIj",
      "include_colab_link": true
    },
    "kernelspec": {
      "name": "python3",
      "display_name": "Python 3"
    },
    "language_info": {
      "name": "python"
    }
  },
  "cells": [
    {
      "cell_type": "markdown",
      "metadata": {
        "id": "view-in-github",
        "colab_type": "text"
      },
      "source": [
        "<a href=\"https://colab.research.google.com/github/atalianb/ShePlusPlusIV/blob/main/Hangman_solution.ipynb\" target=\"_parent\"><img src=\"https://colab.research.google.com/assets/colab-badge.svg\" alt=\"Open In Colab\"/></a>"
      ]
    },
    {
      "cell_type": "markdown",
      "source": [
        "Las líneas comentadas tanto en las librerías como en las funciones corresponden a un paso extra. Tener un diccionario de palabras (en inglés) y elegir una de ellas aleatoriamente"
      ],
      "metadata": {
        "id": "Y14AGtZ2gIG1"
      }
    },
    {
      "cell_type": "code",
      "source": [
        "#import random\n",
        "#from words import words\n",
        "#from hangman_visual import lives_visual_dict\n",
        "import string"
      ],
      "metadata": {
        "id": "lTyMw5Ui1m4k"
      },
      "execution_count": 1,
      "outputs": []
    },
    {
      "cell_type": "code",
      "source": [
        "word = 'HOLA'"
      ],
      "metadata": {
        "id": "LvNJ5xB4Ndx9"
      },
      "execution_count": 2,
      "outputs": []
    },
    {
      "cell_type": "code",
      "source": [
        "lives = 7"
      ],
      "metadata": {
        "id": "wHhLabKBN2Zi"
      },
      "execution_count": 3,
      "outputs": []
    },
    {
      "cell_type": "code",
      "source": [
        "from drive.MyDrive.Hangman.hangman_visual import lives_visual_dict"
      ],
      "metadata": {
        "id": "8NqI00bCPDYn"
      },
      "execution_count": 5,
      "outputs": []
    },
    {
      "cell_type": "code",
      "execution_count": 7,
      "metadata": {
        "colab": {
          "base_uri": "https://localhost:8080/"
        },
        "id": "iP_4X2uq1kb6",
        "outputId": "05934e38-2167-4290-c3cf-30e0b91bfdc8"
      },
      "outputs": [
        {
          "output_type": "stream",
          "name": "stdout",
          "text": [
            "You have 7 lives left and you have used these letters:  \n",
            "\n",
            "Current word:  - - - -\n",
            "Guess a letter: HOLA\n",
            "\n",
            "That is not a valid letter.\n",
            "You have 7 lives left and you have used these letters:  \n",
            "\n",
            "Current word:  - - - -\n",
            "Guess a letter: H\n",
            "\n",
            "You have 7 lives left and you have used these letters:  H\n",
            "\n",
            "Current word:  H - - -\n",
            "Guess a letter: O\n",
            "\n",
            "You have 7 lives left and you have used these letters:  O H\n",
            "\n",
            "Current word:  H O - -\n",
            "Guess a letter: L\n",
            "\n",
            "You have 7 lives left and you have used these letters:  L O H\n",
            "\n",
            "Current word:  H O L -\n",
            "Guess a letter: A\n",
            "\n",
            "YAY! You guessed the word HOLA !!\n"
          ]
        }
      ],
      "source": [
        "#def get_valid_word(words):\n",
        "#    word = random.choice(words)  # randomly chooses something from the list\n",
        "#    while '-' in word or ' ' in word:\n",
        "#        word = random.choice(words)\n",
        "\n",
        "#    return word.upper()\n",
        "\n",
        "\n",
        "\n",
        "def hangman():\n",
        "   # word = get_valid_word(words)\n",
        "    word_letters = set(word)  # letters in the word\n",
        "    alphabet = set(string.ascii_uppercase)\n",
        "    used_letters = set()  # what the user has guessed\n",
        "\n",
        "    lives = 7\n",
        "\n",
        "    # getting user input\n",
        "    while len(word_letters) > 0 and lives > 0:\n",
        "        # letters used\n",
        "        # ' '.join(['a', 'b', 'cd']) --> 'a b cd'\n",
        "        print('You have', lives, 'lives left and you have used these letters: ', ' '.join(used_letters))\n",
        "\n",
        "        # what current word is (ie W - R D)\n",
        "        word_list = [letter if letter in used_letters else '-' for letter in word]\n",
        "        print(lives_visual_dict[lives])\n",
        "        print('Current word: ', ' '.join(word_list))\n",
        "\n",
        "        user_letter = input('Guess a letter: ').upper()\n",
        "        if user_letter in alphabet - used_letters:\n",
        "            used_letters.add(user_letter)\n",
        "            if user_letter in word_letters:\n",
        "                word_letters.remove(user_letter)\n",
        "                print('')\n",
        "\n",
        "            else:\n",
        "                lives = lives - 1  # takes away a life if wrong\n",
        "                print('\\nYour letter,', user_letter, 'is not in the word.')\n",
        "\n",
        "        elif user_letter in used_letters:\n",
        "            print('\\nYou have already used that letter. Guess another letter.')\n",
        "\n",
        "        else:\n",
        "            print('\\nThat is not a valid letter.')\n",
        "\n",
        "    # gets here when len(word_letters) == 0 OR when lives == 0\n",
        "    if lives == 0:\n",
        "        print(lives_visual_dict[lives])\n",
        "        print('You died, sorry. The word was', word)\n",
        "    else:\n",
        "        print('YAY! You guessed the word', word, '!!')\n",
        "\n",
        "\n",
        "if __name__ == '__main__':\n",
        "    hangman()"
      ]
    },
    {
      "cell_type": "code",
      "source": [],
      "metadata": {
        "id": "JFtCw-7B1l1U"
      },
      "execution_count": null,
      "outputs": []
    }
  ]
}